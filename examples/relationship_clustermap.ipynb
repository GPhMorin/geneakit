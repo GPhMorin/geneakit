{
  "cells": [
    {
      "cell_type": "markdown",
      "metadata": {
        "id": "view-in-github",
        "colab_type": "text"
      },
      "source": [
        "<a href=\"https://colab.research.google.com/github/GPhMorin/geneo/blob/main/examples/relationship_clustermap.ipynb\" target=\"_parent\"><img src=\"https://colab.research.google.com/assets/colab-badge.svg\" alt=\"Open In Colab\"/></a>"
      ]
    },
    {
      "cell_type": "markdown",
      "metadata": {
        "id": "5Q7BWyXYCTU_"
      },
      "source": [
        "# Relationship computation and clustering"
      ]
    },
    {
      "cell_type": "markdown",
      "metadata": {
        "id": "8UHDj8g8CTVC"
      },
      "source": [
        "This script computes pairwise relationship coefficients of the probands from the **genea140** dataset and plots a `clustermap` of relationship coefficients using Seaborn, inspired by figure 2 of [the following article](https://doi.org/10.1126/science.abi8264):\n",
        "> Wohns, A. W., Wong, Y., Jeffery, B., Akbari, A., Mallick, S., Pinhasi, R., ... & McVean, G. (2022). A unified genealogy of modern and ancient genomes. *Science, 375*(6583), eabi8264."
      ]
    },
    {
      "cell_type": "code",
      "execution_count": 1,
      "metadata": {
        "colab": {
          "base_uri": "https://localhost:8080/"
        },
        "id": "5fdB9xwsCTVC",
        "outputId": "309e3cf5-b090-49c3-e5c8-06ea89114c20"
      },
      "outputs": [
        {
          "output_type": "stream",
          "name": "stdout",
          "text": [
            "Python 3.10.12\n"
          ]
        }
      ],
      "source": [
        "!python --version"
      ]
    },
    {
      "cell_type": "markdown",
      "metadata": {
        "id": "d4kI2vOKCTVD"
      },
      "source": [
        "The GENEO toolkit will be used for loading the datasets, identifying the probands, and computing the kinship coefficients."
      ]
    },
    {
      "cell_type": "code",
      "execution_count": 2,
      "metadata": {
        "colab": {
          "base_uri": "https://localhost:8080/"
        },
        "id": "51ps7VpfCTVE",
        "outputId": "aa77dac3-38e6-4bf7-c031-ab567c823217"
      },
      "outputs": [
        {
          "output_type": "stream",
          "name": "stdout",
          "text": [
            "Collecting https://github.com/GPhMorin/geneo/archive/main.zip\n",
            "  Using cached https://github.com/GPhMorin/geneo/archive/main.zip\n",
            "  Installing build dependencies ... \u001b[?25l\u001b[?25hdone\n",
            "  Getting requirements to build wheel ... \u001b[?25l\u001b[?25hdone\n",
            "  Installing backend dependencies ... \u001b[?25l\u001b[?25hdone\n",
            "  Preparing metadata (pyproject.toml) ... \u001b[?25l\u001b[?25hdone\n",
            "Requirement already satisfied: numpy in /usr/local/lib/python3.10/dist-packages (from geneo==0.1.0) (1.26.4)\n",
            "Requirement already satisfied: pandas in /usr/local/lib/python3.10/dist-packages (from geneo==0.1.0) (2.2.2)\n",
            "Requirement already satisfied: scipy in /usr/local/lib/python3.10/dist-packages (from geneo==0.1.0) (1.13.1)\n",
            "Requirement already satisfied: python-dateutil>=2.8.2 in /usr/local/lib/python3.10/dist-packages (from pandas->geneo==0.1.0) (2.8.2)\n",
            "Requirement already satisfied: pytz>=2020.1 in /usr/local/lib/python3.10/dist-packages (from pandas->geneo==0.1.0) (2024.2)\n",
            "Requirement already satisfied: tzdata>=2022.7 in /usr/local/lib/python3.10/dist-packages (from pandas->geneo==0.1.0) (2024.2)\n",
            "Requirement already satisfied: six>=1.5 in /usr/local/lib/python3.10/dist-packages (from python-dateutil>=2.8.2->pandas->geneo==0.1.0) (1.16.0)\n"
          ]
        }
      ],
      "source": [
        "%pip install https://github.com/GPhMorin/geneo/archive/main.zip"
      ]
    },
    {
      "cell_type": "markdown",
      "metadata": {
        "id": "C_FVa5NeCTVE"
      },
      "source": [
        "The GENEO toolkit makes extensive use of Pandas dataframes, in this case, for the pairwise kinship coefficients and for the **pop140** dataset. Seaborn will be used for plotting."
      ]
    },
    {
      "cell_type": "code",
      "execution_count": 3,
      "metadata": {
        "id": "24ft-GU5CTVE"
      },
      "outputs": [],
      "source": [
        "import numpy as np\n",
        "import pandas as pd\n",
        "from scipy.cluster import hierarchy\n",
        "from scipy.spatial.distance import squareform\n",
        "import matplotlib.pyplot as plt\n",
        "from matplotlib.colors import SymLogNorm\n",
        "from matplotlib.patches import Patch\n",
        "import seaborn as sns\n",
        "import geneo as gen"
      ]
    },
    {
      "cell_type": "markdown",
      "metadata": {
        "id": "v9bCEN5_CTVE"
      },
      "source": [
        "Two datasets will be used: the **genea140** dataset, which according to the [GENLIB reference manual](https://cran.r-project.org/web/packages/GENLIB/GENLIB.pdf) corresponds to:\n",
        "> A genealogical corpus made of 41523 individuals from the province of Quebec, Canada. A total of 140 individuals have been sampled in seven sub-populations, listed in pop140, and their genealogies were reconstructed as far back as possible using the BALSAC population register and the Early Quebec Population Register."
      ]
    },
    {
      "cell_type": "code",
      "execution_count": 4,
      "metadata": {
        "colab": {
          "base_uri": "https://localhost:8080/"
        },
        "id": "-sc5Up0cCTVF",
        "outputId": "677fce87-3484-446f-d89d-de724c4699b0"
      },
      "outputs": [
        {
          "output_type": "execute_result",
          "data": {
            "text/plain": [
              "A pedigree with:\n",
              "41523 individuals;\n",
              "68248 parent-child relations;\n",
              "20773 men;\n",
              "20750 women;\n",
              "140 probands;\n",
              "18 generations."
            ]
          },
          "metadata": {},
          "execution_count": 4
        }
      ],
      "source": [
        "genea140 = gen.genealogy(gen.genea140)\n",
        "genea140"
      ]
    },
    {
      "cell_type": "markdown",
      "metadata": {
        "id": "xiq-wxacCTVF"
      },
      "source": [
        "The other dataset is **pop140** and accompanies **genea140**. According to the GENLIB reference manual:\n",
        "> The 140 individuals from the genealogical corpus from Quebec were sampled from 7 different populations from 5 regions; Quebec City, Montreal, Saguenay, North Shore, Gaspesia. In Gaspesia we find 3 different populations: French-Canadians, Acadians and Loyalists."
      ]
    },
    {
      "cell_type": "code",
      "execution_count": 5,
      "metadata": {
        "colab": {
          "base_uri": "https://localhost:8080/",
          "height": 419
        },
        "id": "CJ-q7YILCTVF",
        "outputId": "5e9bce9d-7a24-4a2f-eb00-1cbab04485f3"
      },
      "outputs": [
        {
          "output_type": "execute_result",
          "data": {
            "text/plain": [
              "        ind       pop\n",
              "0    409682  Saguenay\n",
              "1    409687  Saguenay\n",
              "2    868387  Saguenay\n",
              "3    717537  Saguenay\n",
              "4    302711  Saguenay\n",
              "..      ...       ...\n",
              "135  443161    Quebec\n",
              "136  443159    Quebec\n",
              "137  443165    Quebec\n",
              "138  443167    Quebec\n",
              "139  444292    Quebec\n",
              "\n",
              "[140 rows x 2 columns]"
            ],
            "text/html": [
              "\n",
              "  <div id=\"df-6b6b3398-697a-4449-97b2-47ea5c4abe0f\" class=\"colab-df-container\">\n",
              "    <div>\n",
              "<style scoped>\n",
              "    .dataframe tbody tr th:only-of-type {\n",
              "        vertical-align: middle;\n",
              "    }\n",
              "\n",
              "    .dataframe tbody tr th {\n",
              "        vertical-align: top;\n",
              "    }\n",
              "\n",
              "    .dataframe thead th {\n",
              "        text-align: right;\n",
              "    }\n",
              "</style>\n",
              "<table border=\"1\" class=\"dataframe\">\n",
              "  <thead>\n",
              "    <tr style=\"text-align: right;\">\n",
              "      <th></th>\n",
              "      <th>ind</th>\n",
              "      <th>pop</th>\n",
              "    </tr>\n",
              "  </thead>\n",
              "  <tbody>\n",
              "    <tr>\n",
              "      <th>0</th>\n",
              "      <td>409682</td>\n",
              "      <td>Saguenay</td>\n",
              "    </tr>\n",
              "    <tr>\n",
              "      <th>1</th>\n",
              "      <td>409687</td>\n",
              "      <td>Saguenay</td>\n",
              "    </tr>\n",
              "    <tr>\n",
              "      <th>2</th>\n",
              "      <td>868387</td>\n",
              "      <td>Saguenay</td>\n",
              "    </tr>\n",
              "    <tr>\n",
              "      <th>3</th>\n",
              "      <td>717537</td>\n",
              "      <td>Saguenay</td>\n",
              "    </tr>\n",
              "    <tr>\n",
              "      <th>4</th>\n",
              "      <td>302711</td>\n",
              "      <td>Saguenay</td>\n",
              "    </tr>\n",
              "    <tr>\n",
              "      <th>...</th>\n",
              "      <td>...</td>\n",
              "      <td>...</td>\n",
              "    </tr>\n",
              "    <tr>\n",
              "      <th>135</th>\n",
              "      <td>443161</td>\n",
              "      <td>Quebec</td>\n",
              "    </tr>\n",
              "    <tr>\n",
              "      <th>136</th>\n",
              "      <td>443159</td>\n",
              "      <td>Quebec</td>\n",
              "    </tr>\n",
              "    <tr>\n",
              "      <th>137</th>\n",
              "      <td>443165</td>\n",
              "      <td>Quebec</td>\n",
              "    </tr>\n",
              "    <tr>\n",
              "      <th>138</th>\n",
              "      <td>443167</td>\n",
              "      <td>Quebec</td>\n",
              "    </tr>\n",
              "    <tr>\n",
              "      <th>139</th>\n",
              "      <td>444292</td>\n",
              "      <td>Quebec</td>\n",
              "    </tr>\n",
              "  </tbody>\n",
              "</table>\n",
              "<p>140 rows × 2 columns</p>\n",
              "</div>\n",
              "    <div class=\"colab-df-buttons\">\n",
              "\n",
              "  <div class=\"colab-df-container\">\n",
              "    <button class=\"colab-df-convert\" onclick=\"convertToInteractive('df-6b6b3398-697a-4449-97b2-47ea5c4abe0f')\"\n",
              "            title=\"Convert this dataframe to an interactive table.\"\n",
              "            style=\"display:none;\">\n",
              "\n",
              "  <svg xmlns=\"http://www.w3.org/2000/svg\" height=\"24px\" viewBox=\"0 -960 960 960\">\n",
              "    <path d=\"M120-120v-720h720v720H120Zm60-500h600v-160H180v160Zm220 220h160v-160H400v160Zm0 220h160v-160H400v160ZM180-400h160v-160H180v160Zm440 0h160v-160H620v160ZM180-180h160v-160H180v160Zm440 0h160v-160H620v160Z\"/>\n",
              "  </svg>\n",
              "    </button>\n",
              "\n",
              "  <style>\n",
              "    .colab-df-container {\n",
              "      display:flex;\n",
              "      gap: 12px;\n",
              "    }\n",
              "\n",
              "    .colab-df-convert {\n",
              "      background-color: #E8F0FE;\n",
              "      border: none;\n",
              "      border-radius: 50%;\n",
              "      cursor: pointer;\n",
              "      display: none;\n",
              "      fill: #1967D2;\n",
              "      height: 32px;\n",
              "      padding: 0 0 0 0;\n",
              "      width: 32px;\n",
              "    }\n",
              "\n",
              "    .colab-df-convert:hover {\n",
              "      background-color: #E2EBFA;\n",
              "      box-shadow: 0px 1px 2px rgba(60, 64, 67, 0.3), 0px 1px 3px 1px rgba(60, 64, 67, 0.15);\n",
              "      fill: #174EA6;\n",
              "    }\n",
              "\n",
              "    .colab-df-buttons div {\n",
              "      margin-bottom: 4px;\n",
              "    }\n",
              "\n",
              "    [theme=dark] .colab-df-convert {\n",
              "      background-color: #3B4455;\n",
              "      fill: #D2E3FC;\n",
              "    }\n",
              "\n",
              "    [theme=dark] .colab-df-convert:hover {\n",
              "      background-color: #434B5C;\n",
              "      box-shadow: 0px 1px 3px 1px rgba(0, 0, 0, 0.15);\n",
              "      filter: drop-shadow(0px 1px 2px rgba(0, 0, 0, 0.3));\n",
              "      fill: #FFFFFF;\n",
              "    }\n",
              "  </style>\n",
              "\n",
              "    <script>\n",
              "      const buttonEl =\n",
              "        document.querySelector('#df-6b6b3398-697a-4449-97b2-47ea5c4abe0f button.colab-df-convert');\n",
              "      buttonEl.style.display =\n",
              "        google.colab.kernel.accessAllowed ? 'block' : 'none';\n",
              "\n",
              "      async function convertToInteractive(key) {\n",
              "        const element = document.querySelector('#df-6b6b3398-697a-4449-97b2-47ea5c4abe0f');\n",
              "        const dataTable =\n",
              "          await google.colab.kernel.invokeFunction('convertToInteractive',\n",
              "                                                    [key], {});\n",
              "        if (!dataTable) return;\n",
              "\n",
              "        const docLinkHtml = 'Like what you see? Visit the ' +\n",
              "          '<a target=\"_blank\" href=https://colab.research.google.com/notebooks/data_table.ipynb>data table notebook</a>'\n",
              "          + ' to learn more about interactive tables.';\n",
              "        element.innerHTML = '';\n",
              "        dataTable['output_type'] = 'display_data';\n",
              "        await google.colab.output.renderOutput(dataTable, element);\n",
              "        const docLink = document.createElement('div');\n",
              "        docLink.innerHTML = docLinkHtml;\n",
              "        element.appendChild(docLink);\n",
              "      }\n",
              "    </script>\n",
              "  </div>\n",
              "\n",
              "\n",
              "<div id=\"df-744cfa42-a3c2-45f1-9e60-4cb8cb60410b\">\n",
              "  <button class=\"colab-df-quickchart\" onclick=\"quickchart('df-744cfa42-a3c2-45f1-9e60-4cb8cb60410b')\"\n",
              "            title=\"Suggest charts\"\n",
              "            style=\"display:none;\">\n",
              "\n",
              "<svg xmlns=\"http://www.w3.org/2000/svg\" height=\"24px\"viewBox=\"0 0 24 24\"\n",
              "     width=\"24px\">\n",
              "    <g>\n",
              "        <path d=\"M19 3H5c-1.1 0-2 .9-2 2v14c0 1.1.9 2 2 2h14c1.1 0 2-.9 2-2V5c0-1.1-.9-2-2-2zM9 17H7v-7h2v7zm4 0h-2V7h2v10zm4 0h-2v-4h2v4z\"/>\n",
              "    </g>\n",
              "</svg>\n",
              "  </button>\n",
              "\n",
              "<style>\n",
              "  .colab-df-quickchart {\n",
              "      --bg-color: #E8F0FE;\n",
              "      --fill-color: #1967D2;\n",
              "      --hover-bg-color: #E2EBFA;\n",
              "      --hover-fill-color: #174EA6;\n",
              "      --disabled-fill-color: #AAA;\n",
              "      --disabled-bg-color: #DDD;\n",
              "  }\n",
              "\n",
              "  [theme=dark] .colab-df-quickchart {\n",
              "      --bg-color: #3B4455;\n",
              "      --fill-color: #D2E3FC;\n",
              "      --hover-bg-color: #434B5C;\n",
              "      --hover-fill-color: #FFFFFF;\n",
              "      --disabled-bg-color: #3B4455;\n",
              "      --disabled-fill-color: #666;\n",
              "  }\n",
              "\n",
              "  .colab-df-quickchart {\n",
              "    background-color: var(--bg-color);\n",
              "    border: none;\n",
              "    border-radius: 50%;\n",
              "    cursor: pointer;\n",
              "    display: none;\n",
              "    fill: var(--fill-color);\n",
              "    height: 32px;\n",
              "    padding: 0;\n",
              "    width: 32px;\n",
              "  }\n",
              "\n",
              "  .colab-df-quickchart:hover {\n",
              "    background-color: var(--hover-bg-color);\n",
              "    box-shadow: 0 1px 2px rgba(60, 64, 67, 0.3), 0 1px 3px 1px rgba(60, 64, 67, 0.15);\n",
              "    fill: var(--button-hover-fill-color);\n",
              "  }\n",
              "\n",
              "  .colab-df-quickchart-complete:disabled,\n",
              "  .colab-df-quickchart-complete:disabled:hover {\n",
              "    background-color: var(--disabled-bg-color);\n",
              "    fill: var(--disabled-fill-color);\n",
              "    box-shadow: none;\n",
              "  }\n",
              "\n",
              "  .colab-df-spinner {\n",
              "    border: 2px solid var(--fill-color);\n",
              "    border-color: transparent;\n",
              "    border-bottom-color: var(--fill-color);\n",
              "    animation:\n",
              "      spin 1s steps(1) infinite;\n",
              "  }\n",
              "\n",
              "  @keyframes spin {\n",
              "    0% {\n",
              "      border-color: transparent;\n",
              "      border-bottom-color: var(--fill-color);\n",
              "      border-left-color: var(--fill-color);\n",
              "    }\n",
              "    20% {\n",
              "      border-color: transparent;\n",
              "      border-left-color: var(--fill-color);\n",
              "      border-top-color: var(--fill-color);\n",
              "    }\n",
              "    30% {\n",
              "      border-color: transparent;\n",
              "      border-left-color: var(--fill-color);\n",
              "      border-top-color: var(--fill-color);\n",
              "      border-right-color: var(--fill-color);\n",
              "    }\n",
              "    40% {\n",
              "      border-color: transparent;\n",
              "      border-right-color: var(--fill-color);\n",
              "      border-top-color: var(--fill-color);\n",
              "    }\n",
              "    60% {\n",
              "      border-color: transparent;\n",
              "      border-right-color: var(--fill-color);\n",
              "    }\n",
              "    80% {\n",
              "      border-color: transparent;\n",
              "      border-right-color: var(--fill-color);\n",
              "      border-bottom-color: var(--fill-color);\n",
              "    }\n",
              "    90% {\n",
              "      border-color: transparent;\n",
              "      border-bottom-color: var(--fill-color);\n",
              "    }\n",
              "  }\n",
              "</style>\n",
              "\n",
              "  <script>\n",
              "    async function quickchart(key) {\n",
              "      const quickchartButtonEl =\n",
              "        document.querySelector('#' + key + ' button');\n",
              "      quickchartButtonEl.disabled = true;  // To prevent multiple clicks.\n",
              "      quickchartButtonEl.classList.add('colab-df-spinner');\n",
              "      try {\n",
              "        const charts = await google.colab.kernel.invokeFunction(\n",
              "            'suggestCharts', [key], {});\n",
              "      } catch (error) {\n",
              "        console.error('Error during call to suggestCharts:', error);\n",
              "      }\n",
              "      quickchartButtonEl.classList.remove('colab-df-spinner');\n",
              "      quickchartButtonEl.classList.add('colab-df-quickchart-complete');\n",
              "    }\n",
              "    (() => {\n",
              "      let quickchartButtonEl =\n",
              "        document.querySelector('#df-744cfa42-a3c2-45f1-9e60-4cb8cb60410b button');\n",
              "      quickchartButtonEl.style.display =\n",
              "        google.colab.kernel.accessAllowed ? 'block' : 'none';\n",
              "    })();\n",
              "  </script>\n",
              "</div>\n",
              "\n",
              "  <div id=\"id_6571c84a-48bf-4bfc-a4f7-b44b940551d7\">\n",
              "    <style>\n",
              "      .colab-df-generate {\n",
              "        background-color: #E8F0FE;\n",
              "        border: none;\n",
              "        border-radius: 50%;\n",
              "        cursor: pointer;\n",
              "        display: none;\n",
              "        fill: #1967D2;\n",
              "        height: 32px;\n",
              "        padding: 0 0 0 0;\n",
              "        width: 32px;\n",
              "      }\n",
              "\n",
              "      .colab-df-generate:hover {\n",
              "        background-color: #E2EBFA;\n",
              "        box-shadow: 0px 1px 2px rgba(60, 64, 67, 0.3), 0px 1px 3px 1px rgba(60, 64, 67, 0.15);\n",
              "        fill: #174EA6;\n",
              "      }\n",
              "\n",
              "      [theme=dark] .colab-df-generate {\n",
              "        background-color: #3B4455;\n",
              "        fill: #D2E3FC;\n",
              "      }\n",
              "\n",
              "      [theme=dark] .colab-df-generate:hover {\n",
              "        background-color: #434B5C;\n",
              "        box-shadow: 0px 1px 3px 1px rgba(0, 0, 0, 0.15);\n",
              "        filter: drop-shadow(0px 1px 2px rgba(0, 0, 0, 0.3));\n",
              "        fill: #FFFFFF;\n",
              "      }\n",
              "    </style>\n",
              "    <button class=\"colab-df-generate\" onclick=\"generateWithVariable('pop140')\"\n",
              "            title=\"Generate code using this dataframe.\"\n",
              "            style=\"display:none;\">\n",
              "\n",
              "  <svg xmlns=\"http://www.w3.org/2000/svg\" height=\"24px\"viewBox=\"0 0 24 24\"\n",
              "       width=\"24px\">\n",
              "    <path d=\"M7,19H8.4L18.45,9,17,7.55,7,17.6ZM5,21V16.75L18.45,3.32a2,2,0,0,1,2.83,0l1.4,1.43a1.91,1.91,0,0,1,.58,1.4,1.91,1.91,0,0,1-.58,1.4L9.25,21ZM18.45,9,17,7.55Zm-12,3A5.31,5.31,0,0,0,4.9,8.1,5.31,5.31,0,0,0,1,6.5,5.31,5.31,0,0,0,4.9,4.9,5.31,5.31,0,0,0,6.5,1,5.31,5.31,0,0,0,8.1,4.9,5.31,5.31,0,0,0,12,6.5,5.46,5.46,0,0,0,6.5,12Z\"/>\n",
              "  </svg>\n",
              "    </button>\n",
              "    <script>\n",
              "      (() => {\n",
              "      const buttonEl =\n",
              "        document.querySelector('#id_6571c84a-48bf-4bfc-a4f7-b44b940551d7 button.colab-df-generate');\n",
              "      buttonEl.style.display =\n",
              "        google.colab.kernel.accessAllowed ? 'block' : 'none';\n",
              "\n",
              "      buttonEl.onclick = () => {\n",
              "        google.colab.notebook.generateWithVariable('pop140');\n",
              "      }\n",
              "      })();\n",
              "    </script>\n",
              "  </div>\n",
              "\n",
              "    </div>\n",
              "  </div>\n"
            ],
            "application/vnd.google.colaboratory.intrinsic+json": {
              "type": "dataframe",
              "variable_name": "pop140",
              "summary": "{\n  \"name\": \"pop140\",\n  \"rows\": 140,\n  \"fields\": [\n    {\n      \"column\": \"ind\",\n      \"properties\": {\n        \"dtype\": \"number\",\n        \"std\": 95548,\n        \"min\": 217891,\n        \"max\": 868572,\n        \"num_unique_values\": 140,\n        \"samples\": [\n          417179,\n          408758,\n          409032\n        ],\n        \"semantic_type\": \"\",\n        \"description\": \"\"\n      }\n    },\n    {\n      \"column\": \"pop\",\n      \"properties\": {\n        \"dtype\": \"category\",\n        \"num_unique_values\": 7,\n        \"samples\": [\n          \"Saguenay\",\n          \"Gaspesia-Acadian\",\n          \"Montreal\"\n        ],\n        \"semantic_type\": \"\",\n        \"description\": \"\"\n      }\n    }\n  ]\n}"
            }
          },
          "metadata": {},
          "execution_count": 5
        }
      ],
      "source": [
        "pop140 = pd.read_csv(gen.pop140, sep='\\t')\n",
        "pop140"
      ]
    },
    {
      "cell_type": "markdown",
      "metadata": {
        "id": "AhwfoHK1CTVF"
      },
      "source": [
        "Now let's compute the pairwise relationship coefficients. On a recent computer, it should take just a few seconds to run the next line, especially if you have OpenMP detected during the toolkit's installation."
      ]
    },
    {
      "cell_type": "code",
      "execution_count": 6,
      "metadata": {
        "id": "BiKTLTCMCTVG"
      },
      "outputs": [],
      "source": [
        "relations = gen.relation(genea140)"
      ]
    },
    {
      "cell_type": "markdown",
      "source": [
        "The minimum non-null value will be used for plotting the color bar."
      ],
      "metadata": {
        "id": "4d4if_oOkxFF"
      }
    },
    {
      "cell_type": "code",
      "source": [
        "min_relation = relations[relations != 0].min().min()\n",
        "min_relation"
      ],
      "metadata": {
        "id": "rGpBBau1i5Ji",
        "outputId": "6c367066-2209-4a4b-cdd8-9b86fb5214f5",
        "colab": {
          "base_uri": "https://localhost:8080/"
        }
      },
      "execution_count": 7,
      "outputs": [
        {
          "output_type": "execute_result",
          "data": {
            "text/plain": [
              "4.76837158203125e-07"
            ]
          },
          "metadata": {},
          "execution_count": 7
        }
      ]
    },
    {
      "cell_type": "markdown",
      "source": [
        "For the dendrogram, the distance is computed by replacing the diagonal with the maximum outdiagonal value, and by normalizing."
      ],
      "metadata": {
        "id": "IIlM9pG0rVCo"
      }
    },
    {
      "cell_type": "markdown",
      "metadata": {
        "id": "gxFTYGfxCTVG"
      },
      "source": [
        "Let's create a dictionary to easily get the corresponding population of an individual."
      ]
    },
    {
      "cell_type": "code",
      "execution_count": 8,
      "metadata": {
        "colab": {
          "base_uri": "https://localhost:8080/"
        },
        "id": "dwuz_9lFCTVG",
        "outputId": "6d8cb416-b33f-414f-c04d-f5556fca55b2"
      },
      "outputs": [
        {
          "output_type": "execute_result",
          "data": {
            "text/plain": [
              "{409682: 'Saguenay',\n",
              " 409687: 'Saguenay',\n",
              " 868387: 'Saguenay',\n",
              " 717537: 'Saguenay',\n",
              " 302711: 'Saguenay',\n",
              " 302716: 'Saguenay',\n",
              " 868572: 'Saguenay',\n",
              " 717634: 'Saguenay',\n",
              " 409808: 'Saguenay',\n",
              " 718567: 'Saguenay',\n",
              " 677273: 'Saguenay',\n",
              " 717709: 'Saguenay',\n",
              " 302717: 'Saguenay',\n",
              " 219947: 'Saguenay',\n",
              " 288708: 'Saguenay',\n",
              " 454422: 'Saguenay',\n",
              " 302718: 'Saguenay',\n",
              " 218089: 'Saguenay',\n",
              " 302710: 'Saguenay',\n",
              " 217891: 'Saguenay',\n",
              " 288764: 'Saguenay',\n",
              " 453612: 'Saguenay',\n",
              " 408319: 'Gaspesia-Acadian',\n",
              " 408480: 'Gaspesia-Acadian',\n",
              " 408920: 'Gaspesia-Acadian',\n",
              " 408926: 'Gaspesia-Acadian',\n",
              " 408475: 'Gaspesia-Loyalist',\n",
              " 408477: 'Gaspesia-Loyalist',\n",
              " 408790: 'Gaspesia-Loyalist',\n",
              " 409098: 'Gaspesia-Loyalist',\n",
              " 409100: 'Gaspesia-Loyalist',\n",
              " 409032: 'Gaspesia-Loyalist',\n",
              " 408992: 'Gaspesia-Loyalist',\n",
              " 409031: 'Gaspesia-Loyalist',\n",
              " 409215: 'Gaspesia-Loyalist',\n",
              " 409266: 'Gaspesia-Loyalist',\n",
              " 409437: 'Gaspesia-Loyalist',\n",
              " 409434: 'Gaspesia-Loyalist',\n",
              " 409422: 'Gaspesia-Loyalist',\n",
              " 409349: 'Gaspesia-Loyalist',\n",
              " 408769: 'Gaspesia-Loyalist',\n",
              " 409033: 'Gaspesia-Acadian',\n",
              " 409153: 'Gaspesia-Loyalist',\n",
              " 409282: 'Gaspesia-Loyalist',\n",
              " 408062: 'Gaspesia-FrenchCanadian',\n",
              " 408372: 'Gaspesia-FrenchCanadian',\n",
              " 408364: 'Gaspesia-FrenchCanadian',\n",
              " 408366: 'Gaspesia-FrenchCanadian',\n",
              " 408375: 'Gaspesia-FrenchCanadian',\n",
              " 408388: 'Gaspesia-FrenchCanadian',\n",
              " 408426: 'Gaspesia-FrenchCanadian',\n",
              " 676521: 'Gaspesia-FrenchCanadian',\n",
              " 408427: 'Gaspesia-FrenchCanadian',\n",
              " 408396: 'Gaspesia-FrenchCanadian',\n",
              " 408393: 'Gaspesia-FrenchCanadian',\n",
              " 408394: 'Gaspesia-FrenchCanadian',\n",
              " 408691: 'Gaspesia-FrenchCanadian',\n",
              " 408917: 'Gaspesia-FrenchCanadian',\n",
              " 408923: 'Gaspesia-FrenchCanadian',\n",
              " 409054: 'Gaspesia-FrenchCanadian',\n",
              " 408950: 'Gaspesia-FrenchCanadian',\n",
              " 408937: 'Gaspesia-FrenchCanadian',\n",
              " 409092: 'Gaspesia-FrenchCanadian',\n",
              " 409041: 'Gaspesia-FrenchCanadian',\n",
              " 409288: 'Gaspesia-Loyalist',\n",
              " 409259: 'Gaspesia-Loyalist',\n",
              " 409263: 'Gaspesia-Loyalist',\n",
              " 408758: 'Gaspesia-Acadian',\n",
              " 408728: 'Gaspesia-Acadian',\n",
              " 408868: 'Gaspesia-Acadian',\n",
              " 408828: 'Gaspesia-Acadian',\n",
              " 408911: 'Gaspesia-Acadian',\n",
              " 409082: 'Gaspesia-Acadian',\n",
              " 409103: 'Gaspesia-Acadian',\n",
              " 409086: 'Gaspesia-Acadian',\n",
              " 409095: 'Gaspesia-Acadian',\n",
              " 409084: 'Gaspesia-Acadian',\n",
              " 409091: 'Gaspesia-Acadian',\n",
              " 409154: 'Gaspesia-Acadian',\n",
              " 409111: 'Gaspesia-Acadian',\n",
              " 409147: 'Gaspesia-Acadian',\n",
              " 409124: 'Gaspesia-Acadian',\n",
              " 416134: 'NorthShore',\n",
              " 416124: 'NorthShore',\n",
              " 416140: 'NorthShore',\n",
              " 416118: 'NorthShore',\n",
              " 416130: 'NorthShore',\n",
              " 416144: 'NorthShore',\n",
              " 416147: 'NorthShore',\n",
              " 416150: 'NorthShore',\n",
              " 416162: 'NorthShore',\n",
              " 416163: 'NorthShore',\n",
              " 416852: 'NorthShore',\n",
              " 416961: 'NorthShore',\n",
              " 416965: 'NorthShore',\n",
              " 416861: 'NorthShore',\n",
              " 416973: 'NorthShore',\n",
              " 416829: 'NorthShore',\n",
              " 416955: 'NorthShore',\n",
              " 417018: 'NorthShore',\n",
              " 417148: 'NorthShore',\n",
              " 417662: 'NorthShore',\n",
              " 416925: 'Montreal',\n",
              " 417187: 'Montreal',\n",
              " 416915: 'Montreal',\n",
              " 417184: 'Montreal',\n",
              " 417663: 'Montreal',\n",
              " 417181: 'Montreal',\n",
              " 417179: 'Montreal',\n",
              " 417170: 'Montreal',\n",
              " 417169: 'Montreal',\n",
              " 417168: 'Montreal',\n",
              " 430148: 'Montreal',\n",
              " 430152: 'Montreal',\n",
              " 416899: 'Montreal',\n",
              " 417164: 'Montreal',\n",
              " 417890: 'Montreal',\n",
              " 417234: 'Montreal',\n",
              " 430056: 'Montreal',\n",
              " 419335: 'Montreal',\n",
              " 417882: 'Montreal',\n",
              " 419332: 'Montreal',\n",
              " 419329: 'Montreal',\n",
              " 430101: 'Montreal',\n",
              " 444295: 'Quebec',\n",
              " 443169: 'Quebec',\n",
              " 443151: 'Quebec',\n",
              " 443149: 'Quebec',\n",
              " 443154: 'Quebec',\n",
              " 443157: 'Quebec',\n",
              " 443155: 'Quebec',\n",
              " 443152: 'Quebec',\n",
              " 802424: 'Quebec',\n",
              " 443163: 'Quebec',\n",
              " 444293: 'Quebec',\n",
              " 443161: 'Quebec',\n",
              " 443159: 'Quebec',\n",
              " 443165: 'Quebec',\n",
              " 443167: 'Quebec',\n",
              " 444292: 'Quebec'}"
            ]
          },
          "metadata": {},
          "execution_count": 8
        }
      ],
      "source": [
        "ind_to_pop = {ind: pop for index, (ind, pop) in pop140.iterrows()}\n",
        "ind_to_pop"
      ]
    },
    {
      "cell_type": "markdown",
      "metadata": {
        "id": "93-Zi6y4CTVG"
      },
      "source": [
        "Here's a dictionary to convert a population to its corresponding abbreviation."
      ]
    },
    {
      "cell_type": "code",
      "execution_count": 9,
      "metadata": {
        "id": "nkKK6q8mCTVH"
      },
      "outputs": [],
      "source": [
        "population_to_pop = {\n",
        "    'Gaspesia-Acadian': 'ACA',\n",
        "    'Gaspesia-FrenchCanadian': 'GFC',\n",
        "    'Gaspesia-Loyalist': 'LOY',\n",
        "    'Montreal': 'MON',\n",
        "    'NorthShore': 'NS',\n",
        "    'Quebec': 'QUE',\n",
        "    'Saguenay': 'SAG'\n",
        "}"
      ]
    },
    {
      "cell_type": "markdown",
      "metadata": {
        "id": "Y5sxq5htCTVH"
      },
      "source": [
        "Now, a dictionary to get the color of a corresponding abbreviation."
      ]
    },
    {
      "cell_type": "code",
      "execution_count": 10,
      "metadata": {
        "id": "oFfmGHGqCTVH"
      },
      "outputs": [],
      "source": [
        "pop_to_color = {\n",
        "    'ACA': 'red',\n",
        "    'GFC': 'purple',\n",
        "    'LOY': 'lime',\n",
        "    'MON': 'orange',\n",
        "    'NS': 'cyan',\n",
        "    'QUE': 'blue',\n",
        "    'SAG': 'darkgreen',\n",
        "}"
      ]
    },
    {
      "cell_type": "markdown",
      "metadata": {
        "id": "GCkyx1HfCTVH"
      },
      "source": [
        "Let's extract the color of each proband."
      ]
    },
    {
      "cell_type": "code",
      "execution_count": 11,
      "metadata": {
        "colab": {
          "base_uri": "https://localhost:8080/"
        },
        "id": "c8366nlMCTVH",
        "outputId": "72e449fb-04d6-4846-ff97-6e0f4931b8a9"
      },
      "outputs": [
        {
          "output_type": "execute_result",
          "data": {
            "text/plain": [
              "['darkgreen',\n",
              " 'darkgreen',\n",
              " 'darkgreen',\n",
              " 'darkgreen',\n",
              " 'darkgreen',\n",
              " 'darkgreen',\n",
              " 'darkgreen',\n",
              " 'darkgreen',\n",
              " 'darkgreen',\n",
              " 'darkgreen',\n",
              " 'purple',\n",
              " 'red',\n",
              " 'purple',\n",
              " 'purple',\n",
              " 'purple',\n",
              " 'purple',\n",
              " 'purple',\n",
              " 'purple',\n",
              " 'purple',\n",
              " 'purple',\n",
              " 'purple',\n",
              " 'purple',\n",
              " 'lime',\n",
              " 'lime',\n",
              " 'red',\n",
              " 'purple',\n",
              " 'red',\n",
              " 'red',\n",
              " 'lime',\n",
              " 'lime',\n",
              " 'red',\n",
              " 'red',\n",
              " 'red',\n",
              " 'purple',\n",
              " 'red',\n",
              " 'purple',\n",
              " 'red',\n",
              " 'purple',\n",
              " 'purple',\n",
              " 'lime',\n",
              " 'lime',\n",
              " 'lime',\n",
              " 'red',\n",
              " 'purple',\n",
              " 'purple',\n",
              " 'red',\n",
              " 'red',\n",
              " 'red',\n",
              " 'red',\n",
              " 'purple',\n",
              " 'red',\n",
              " 'lime',\n",
              " 'lime',\n",
              " 'red',\n",
              " 'red',\n",
              " 'red',\n",
              " 'red',\n",
              " 'lime',\n",
              " 'red',\n",
              " 'lime',\n",
              " 'lime',\n",
              " 'lime',\n",
              " 'lime',\n",
              " 'lime',\n",
              " 'lime',\n",
              " 'lime',\n",
              " 'lime',\n",
              " 'lime',\n",
              " 'lime',\n",
              " 'darkgreen',\n",
              " 'darkgreen',\n",
              " 'darkgreen',\n",
              " 'cyan',\n",
              " 'cyan',\n",
              " 'cyan',\n",
              " 'cyan',\n",
              " 'cyan',\n",
              " 'cyan',\n",
              " 'cyan',\n",
              " 'cyan',\n",
              " 'cyan',\n",
              " 'cyan',\n",
              " 'cyan',\n",
              " 'cyan',\n",
              " 'cyan',\n",
              " 'orange',\n",
              " 'orange',\n",
              " 'orange',\n",
              " 'cyan',\n",
              " 'cyan',\n",
              " 'cyan',\n",
              " 'cyan',\n",
              " 'cyan',\n",
              " 'cyan',\n",
              " 'orange',\n",
              " 'orange',\n",
              " 'orange',\n",
              " 'orange',\n",
              " 'orange',\n",
              " 'orange',\n",
              " 'orange',\n",
              " 'orange',\n",
              " 'orange',\n",
              " 'cyan',\n",
              " 'orange',\n",
              " 'orange',\n",
              " 'orange',\n",
              " 'orange',\n",
              " 'orange',\n",
              " 'orange',\n",
              " 'orange',\n",
              " 'orange',\n",
              " 'orange',\n",
              " 'orange',\n",
              " 'blue',\n",
              " 'blue',\n",
              " 'blue',\n",
              " 'blue',\n",
              " 'blue',\n",
              " 'blue',\n",
              " 'blue',\n",
              " 'blue',\n",
              " 'blue',\n",
              " 'blue',\n",
              " 'blue',\n",
              " 'blue',\n",
              " 'blue',\n",
              " 'blue',\n",
              " 'blue',\n",
              " 'darkgreen',\n",
              " 'darkgreen',\n",
              " 'purple',\n",
              " 'darkgreen',\n",
              " 'darkgreen',\n",
              " 'darkgreen',\n",
              " 'darkgreen',\n",
              " 'darkgreen',\n",
              " 'blue',\n",
              " 'darkgreen',\n",
              " 'darkgreen']"
            ]
          },
          "metadata": {},
          "execution_count": 11
        }
      ],
      "source": [
        "pro = gen.pro(genea140)\n",
        "pops = [ind_to_pop[ind] for ind in pro]\n",
        "colors = [pop_to_color[population_to_pop[pop]] for pop in pops]\n",
        "colors"
      ]
    },
    {
      "cell_type": "markdown",
      "metadata": {
        "id": "3cRAMf5iCTVH"
      },
      "source": [
        "The following mask will remove the values of the lower triangle, including the diagonal."
      ]
    },
    {
      "cell_type": "code",
      "execution_count": 12,
      "metadata": {
        "colab": {
          "base_uri": "https://localhost:8080/"
        },
        "id": "QVP7oQSpCTVH",
        "outputId": "e0f0f2ec-4614-40eb-a2c9-caba39b6e6f2"
      },
      "outputs": [
        {
          "output_type": "execute_result",
          "data": {
            "text/plain": [
              "array([[ True, False, False, ..., False, False, False],\n",
              "       [ True,  True,  True, ...,  True,  True,  True],\n",
              "       [ True, False,  True, ..., False, False,  True],\n",
              "       ...,\n",
              "       [ True, False,  True, ...,  True,  True,  True],\n",
              "       [ True, False,  True, ..., False,  True,  True],\n",
              "       [ True, False, False, ..., False, False,  True]])"
            ]
          },
          "metadata": {},
          "execution_count": 12
        }
      ],
      "source": [
        "n = relations.shape[0]\n",
        "mask = np.zeros((n, n), dtype=bool)\n",
        "Z = hierarchy.linkage(squareform(1 - relations), method='average', optimal_ordering=True)\n",
        "ordering = hierarchy.leaves_list(Z)\n",
        "for i in range(n):\n",
        "    for j in range(n):\n",
        "        if i >= j:\n",
        "            mask[ordering[i], ordering[j]] = True\n",
        "mask"
      ]
    },
    {
      "cell_type": "markdown",
      "source": [
        "For visualisation, the lengths of the dendrogram branches are adjusted."
      ],
      "metadata": {
        "id": "C8bnSgCI0xdw"
      }
    },
    {
      "cell_type": "code",
      "source": [
        "Z2 = Z.copy()\n",
        "Z2[:, 2] = -np.log2(1 - Z2[:, 2] + 1e-10)\n",
        "Z2[:, 2] -= Z2[:, 2].min()\n",
        "Z2[:, 2] /= Z2[:, 2].max()\n",
        "Z2"
      ],
      "metadata": {
        "id": "5IOqrAj_wUN3",
        "outputId": "220e0b88-0833-40de-da05-ab8b549f8c0c",
        "colab": {
          "base_uri": "https://localhost:8080/"
        }
      },
      "execution_count": 13,
      "outputs": [
        {
          "output_type": "execute_result",
          "data": {
            "text/plain": [
              "array([[5.40000000e+01, 4.80000000e+01, 0.00000000e+00, 2.00000000e+00],\n",
              "       [4.60000000e+01, 3.00000000e+01, 1.99341061e-02, 2.00000000e+00],\n",
              "       [7.70000000e+01, 7.80000000e+01, 3.65538661e-02, 2.00000000e+00],\n",
              "       [1.31000000e+02, 3.80000000e+01, 3.67554284e-02, 2.00000000e+00],\n",
              "       [4.50000000e+01, 1.40000000e+02, 3.95002845e-02, 3.00000000e+00],\n",
              "       [5.00000000e+01, 3.20000000e+01, 4.00053293e-02, 2.00000000e+00],\n",
              "       [8.80000000e+01, 9.20000000e+01, 4.03505947e-02, 2.00000000e+00],\n",
              "       [3.60000000e+01, 2.60000000e+01, 4.14165141e-02, 2.00000000e+00],\n",
              "       [3.10000000e+01, 1.41000000e+02, 4.39535370e-02, 3.00000000e+00],\n",
              "       [1.00000000e+01, 2.50000000e+01, 4.95601665e-02, 2.00000000e+00],\n",
              "       [7.30000000e+01, 7.20000000e+01, 4.96085239e-02, 2.00000000e+00],\n",
              "       [1.44000000e+02, 2.70000000e+01, 4.98473877e-02, 4.00000000e+00],\n",
              "       [8.00000000e+01, 8.10000000e+01, 5.00938418e-02, 2.00000000e+00],\n",
              "       [6.60000000e+01, 6.80000000e+01, 5.04730942e-02, 2.00000000e+00],\n",
              "       [9.30000000e+01, 7.00000000e+00, 5.06985692e-02, 2.00000000e+00],\n",
              "       [1.48000000e+02, 1.51000000e+02, 5.27848554e-02, 7.00000000e+00],\n",
              "       [1.50000000e+01, 1.90000000e+01, 5.28040232e-02, 2.00000000e+00],\n",
              "       [1.80000000e+01, 3.30000000e+01, 5.62274057e-02, 2.00000000e+00],\n",
              "       [1.60000000e+01, 1.47000000e+02, 5.71953161e-02, 3.00000000e+00],\n",
              "       [8.00000000e+00, 1.35000000e+02, 6.16942963e-02, 2.00000000e+00],\n",
              "       [2.10000000e+01, 3.70000000e+01, 6.21701793e-02, 2.00000000e+00],\n",
              "       [1.45000000e+02, 5.80000000e+01, 6.32899821e-02, 3.00000000e+00],\n",
              "       [8.40000000e+01, 1.59000000e+02, 6.51587331e-02, 3.00000000e+00],\n",
              "       [1.55000000e+02, 1.61000000e+02, 6.63821902e-02, 1.00000000e+01],\n",
              "       [7.40000000e+01, 8.90000000e+01, 6.73560011e-02, 2.00000000e+00],\n",
              "       [1.42000000e+02, 7.50000000e+01, 6.85645424e-02, 3.00000000e+00],\n",
              "       [9.00000000e+01, 1.54000000e+02, 7.09988253e-02, 3.00000000e+00],\n",
              "       [1.63000000e+02, 3.40000000e+01, 7.21979187e-02, 1.10000000e+01],\n",
              "       [1.58000000e+02, 4.20000000e+01, 7.24228599e-02, 4.00000000e+00],\n",
              "       [5.20000000e+01, 6.50000000e+01, 7.25900578e-02, 2.00000000e+00],\n",
              "       [1.49000000e+02, 1.56000000e+02, 7.28107806e-02, 4.00000000e+00],\n",
              "       [5.50000000e+01, 1.67000000e+02, 7.35587812e-02, 1.20000000e+01],\n",
              "       [2.80000000e+01, 5.70000000e+01, 7.45503034e-02, 2.00000000e+00],\n",
              "       [1.62000000e+02, 4.00000000e+00, 7.46868387e-02, 4.00000000e+00],\n",
              "       [1.71000000e+02, 5.60000000e+01, 7.48220644e-02, 1.30000000e+01],\n",
              "       [1.73000000e+02, 1.64000000e+02, 7.67449422e-02, 6.00000000e+00],\n",
              "       [1.33000000e+02, 1.75000000e+02, 7.86080401e-02, 7.00000000e+00],\n",
              "       [2.00000000e+01, 1.57000000e+02, 8.06649443e-02, 3.00000000e+00],\n",
              "       [1.76000000e+02, 1.65000000e+02, 8.07740845e-02, 1.00000000e+01],\n",
              "       [1.30000000e+01, 3.50000000e+01, 8.11924942e-02, 2.00000000e+00],\n",
              "       [4.70000000e+01, 1.74000000e+02, 8.28862353e-02, 1.40000000e+01],\n",
              "       [0.00000000e+00, 1.39000000e+02, 8.36182749e-02, 2.00000000e+00],\n",
              "       [1.66000000e+02, 1.78000000e+02, 8.37413838e-02, 1.30000000e+01],\n",
              "       [1.82000000e+02, 1.29000000e+02, 8.47228828e-02, 1.40000000e+01],\n",
              "       [6.10000000e+01, 1.77000000e+02, 8.56819200e-02, 4.00000000e+00],\n",
              "       [2.90000000e+01, 2.30000000e+01, 8.57683366e-02, 2.00000000e+00],\n",
              "       [1.70000000e+02, 1.60000000e+02, 8.62408740e-02, 6.00000000e+00],\n",
              "       [1.53000000e+02, 2.20000000e+01, 8.62445654e-02, 3.00000000e+00],\n",
              "       [1.83000000e+02, 6.90000000e+01, 8.94866088e-02, 1.50000000e+01],\n",
              "       [1.88000000e+02, 9.00000000e+00, 9.05847304e-02, 1.60000000e+01],\n",
              "       [1.40000000e+01, 1.68000000e+02, 9.08863160e-02, 5.00000000e+00],\n",
              "       [1.46000000e+02, 1.89000000e+02, 9.13662955e-02, 1.80000000e+01],\n",
              "       [1.91000000e+02, 8.30000000e+01, 9.20471421e-02, 1.90000000e+01],\n",
              "       [1.81000000e+02, 1.92000000e+02, 9.46198713e-02, 2.10000000e+01],\n",
              "       [1.90000000e+02, 2.40000000e+01, 9.64293543e-02, 6.00000000e+00],\n",
              "       [1.80000000e+02, 5.30000000e+01, 9.71312130e-02, 1.50000000e+01],\n",
              "       [7.00000000e+01, 1.36000000e+02, 9.73523823e-02, 2.00000000e+00],\n",
              "       [1.93000000e+02, 3.00000000e+00, 9.82498831e-02, 2.20000000e+01],\n",
              "       [1.97000000e+02, 2.00000000e+00, 9.92474013e-02, 2.30000000e+01],\n",
              "       [1.98000000e+02, 7.10000000e+01, 9.96149634e-02, 2.40000000e+01],\n",
              "       [8.20000000e+01, 1.99000000e+02, 1.01821192e-01, 2.50000000e+01],\n",
              "       [2.00000000e+02, 1.96000000e+02, 1.03124789e-01, 2.70000000e+01],\n",
              "       [2.01000000e+02, 6.00000000e+00, 1.04732023e-01, 2.80000000e+01],\n",
              "       [2.02000000e+02, 5.00000000e+00, 1.05260271e-01, 2.90000000e+01],\n",
              "       [1.94000000e+02, 1.95000000e+02, 1.08469553e-01, 2.10000000e+01],\n",
              "       [1.52000000e+02, 2.03000000e+02, 1.10057296e-01, 3.10000000e+01],\n",
              "       [1.87000000e+02, 1.69000000e+02, 1.10756357e-01, 5.00000000e+00],\n",
              "       [1.43000000e+02, 1.86000000e+02, 1.11294428e-01, 8.00000000e+00],\n",
              "       [1.50000000e+02, 1.38000000e+02, 1.11720251e-01, 3.00000000e+00],\n",
              "       [1.79000000e+02, 6.00000000e+01, 1.13654940e-01, 3.00000000e+00],\n",
              "       [2.04000000e+02, 1.10000000e+01, 1.19821685e-01, 2.20000000e+01],\n",
              "       [1.70000000e+01, 4.40000000e+01, 1.20151403e-01, 2.00000000e+00],\n",
              "       [1.03000000e+02, 9.10000000e+01, 1.21978183e-01, 2.00000000e+00],\n",
              "       [2.05000000e+02, 2.08000000e+02, 1.26160695e-01, 3.40000000e+01],\n",
              "       [4.30000000e+01, 4.90000000e+01, 1.26474494e-01, 2.00000000e+00],\n",
              "       [1.84000000e+02, 2.09000000e+02, 1.26735883e-01, 7.00000000e+00],\n",
              "       [2.13000000e+02, 7.90000000e+01, 1.29428154e-01, 3.50000000e+01],\n",
              "       [2.16000000e+02, 1.30000000e+02, 1.31577537e-01, 3.60000000e+01],\n",
              "       [3.90000000e+01, 2.06000000e+02, 1.32364294e-01, 6.00000000e+00],\n",
              "       [1.34000000e+02, 2.17000000e+02, 1.33718730e-01, 3.70000000e+01],\n",
              "       [2.14000000e+02, 4.00000000e+01, 1.36863726e-01, 3.00000000e+00],\n",
              "       [9.50000000e+01, 2.10000000e+02, 1.38329976e-01, 2.30000000e+01],\n",
              "       [2.19000000e+02, 1.05000000e+02, 1.38709084e-01, 3.80000000e+01],\n",
              "       [5.90000000e+01, 2.18000000e+02, 1.43337240e-01, 7.00000000e+00],\n",
              "       [1.20000000e+01, 2.15000000e+02, 1.47994857e-01, 8.00000000e+00],\n",
              "       [2.07000000e+02, 2.24000000e+02, 1.49188359e-01, 1.60000000e+01],\n",
              "       [1.22000000e+02, 1.18000000e+02, 1.49495873e-01, 2.00000000e+00],\n",
              "       [2.25000000e+02, 1.24000000e+02, 1.52873458e-01, 1.70000000e+01],\n",
              "       [2.23000000e+02, 5.10000000e+01, 1.55316188e-01, 8.00000000e+00],\n",
              "       [7.60000000e+01, 2.22000000e+02, 1.58084406e-01, 3.90000000e+01],\n",
              "       [9.80000000e+01, 1.26000000e+02, 1.59368975e-01, 2.00000000e+00],\n",
              "       [2.20000000e+02, 2.21000000e+02, 1.59434444e-01, 2.60000000e+01],\n",
              "       [6.30000000e+01, 6.40000000e+01, 1.59844926e-01, 2.00000000e+00],\n",
              "       [2.11000000e+02, 1.19000000e+02, 1.61566860e-01, 3.00000000e+00],\n",
              "       [1.27000000e+02, 1.37000000e+02, 1.61598558e-01, 2.00000000e+00],\n",
              "       [1.85000000e+02, 2.28000000e+02, 1.62600501e-01, 1.00000000e+01],\n",
              "       [1.12000000e+02, 1.28000000e+02, 1.63059979e-01, 2.00000000e+00],\n",
              "       [1.21000000e+02, 8.60000000e+01, 1.63426246e-01, 2.00000000e+00],\n",
              "       [9.90000000e+01, 1.16000000e+02, 1.64967638e-01, 2.00000000e+00],\n",
              "       [1.20000000e+02, 2.30000000e+02, 1.66715564e-01, 3.00000000e+00],\n",
              "       [2.37000000e+02, 2.34000000e+02, 1.67963464e-01, 4.00000000e+00],\n",
              "       [2.29000000e+02, 1.00000000e+02, 1.68765930e-01, 4.00000000e+01],\n",
              "       [1.17000000e+02, 2.41000000e+02, 1.71711414e-01, 4.10000000e+01],\n",
              "       [1.02000000e+02, 2.27000000e+02, 1.74331113e-01, 1.80000000e+01],\n",
              "       [9.40000000e+01, 2.40000000e+02, 1.75700611e-01, 5.00000000e+00],\n",
              "       [2.43000000e+02, 2.33000000e+02, 1.76105086e-01, 2.10000000e+01],\n",
              "       [2.26000000e+02, 2.42000000e+02, 1.77680498e-01, 4.30000000e+01],\n",
              "       [2.36000000e+02, 1.25000000e+02, 1.81948673e-01, 3.00000000e+00],\n",
              "       [2.12000000e+02, 2.31000000e+02, 1.83828334e-01, 2.80000000e+01],\n",
              "       [1.14000000e+02, 2.46000000e+02, 1.84114223e-01, 4.40000000e+01],\n",
              "       [1.08000000e+02, 1.11000000e+02, 1.85486211e-01, 2.00000000e+00],\n",
              "       [2.44000000e+02, 9.70000000e+01, 1.89469417e-01, 6.00000000e+00],\n",
              "       [1.04000000e+02, 1.13000000e+02, 1.94452187e-01, 2.00000000e+00],\n",
              "       [2.50000000e+02, 1.32000000e+02, 1.98143525e-01, 3.00000000e+00],\n",
              "       [8.50000000e+01, 1.01000000e+02, 1.98616800e-01, 2.00000000e+00],\n",
              "       [2.45000000e+02, 2.47000000e+02, 2.00087525e-01, 2.40000000e+01],\n",
              "       [2.55000000e+02, 2.51000000e+02, 2.01722765e-01, 3.00000000e+01],\n",
              "       [1.10000000e+02, 2.49000000e+02, 2.02225517e-01, 4.50000000e+01],\n",
              "       [2.38000000e+02, 8.70000000e+01, 2.03432454e-01, 3.00000000e+00],\n",
              "       [2.57000000e+02, 2.56000000e+02, 2.03614974e-01, 7.50000000e+01],\n",
              "       [2.35000000e+02, 6.70000000e+01, 2.05345336e-01, 1.10000000e+01],\n",
              "       [9.60000000e+01, 2.53000000e+02, 2.11356354e-01, 4.00000000e+00],\n",
              "       [2.39000000e+02, 2.58000000e+02, 2.13598264e-01, 6.00000000e+00],\n",
              "       [2.54000000e+02, 2.61000000e+02, 2.14875650e-01, 6.00000000e+00],\n",
              "       [2.59000000e+02, 2.62000000e+02, 2.21008592e-01, 8.10000000e+01],\n",
              "       [1.72000000e+02, 2.32000000e+02, 2.31885405e-01, 4.00000000e+00],\n",
              "       [1.00000000e+00, 1.09000000e+02, 2.32602222e-01, 2.00000000e+00],\n",
              "       [2.48000000e+02, 2.64000000e+02, 2.37103655e-01, 1.09000000e+02],\n",
              "       [2.63000000e+02, 2.66000000e+02, 2.38938800e-01, 8.00000000e+00],\n",
              "       [1.23000000e+02, 2.67000000e+02, 2.51183253e-01, 1.10000000e+02],\n",
              "       [2.52000000e+02, 2.68000000e+02, 2.52622026e-01, 1.00000000e+01],\n",
              "       [2.69000000e+02, 2.70000000e+02, 2.60091497e-01, 1.20000000e+02],\n",
              "       [6.20000000e+01, 2.60000000e+02, 2.66235325e-01, 1.20000000e+01],\n",
              "       [2.71000000e+02, 1.06000000e+02, 2.80600089e-01, 1.21000000e+02],\n",
              "       [2.72000000e+02, 4.10000000e+01, 2.86325103e-01, 1.30000000e+01],\n",
              "       [2.73000000e+02, 1.07000000e+02, 3.20423423e-01, 1.22000000e+02],\n",
              "       [2.65000000e+02, 2.75000000e+02, 4.03311615e-01, 1.26000000e+02],\n",
              "       [2.76000000e+02, 2.74000000e+02, 4.99360462e-01, 1.39000000e+02],\n",
              "       [1.15000000e+02, 2.77000000e+02, 1.00000000e+00, 1.40000000e+02]])"
            ]
          },
          "metadata": {},
          "execution_count": 13
        }
      ]
    },
    {
      "cell_type": "markdown",
      "metadata": {
        "id": "WyV2h02bCTVH"
      },
      "source": [
        "Finally, let's see the results."
      ]
    },
    {
      "cell_type": "code",
      "execution_count": 14,
      "metadata": {
        "colab": {
          "base_uri": "https://localhost:8080/",
          "height": 985
        },
        "id": "Jea1PxobCTVH",
        "outputId": "c462de78-8b60-4a46-b0c8-b3cdb6aeb574"
      },
      "outputs": [
        {
          "output_type": "display_data",
          "data": {
            "text/plain": [
              "<Figure size 1000x1000 with 5 Axes>"
            ],
            "image/png": "[encoded data removed]"
          },
          "metadata": {}
        }
      ],
      "source": [
        "cm = sns.clustermap(relations,\n",
        "                    mask=mask,\n",
        "                    cmap='rocket',\n",
        "                    row_colors=colors,\n",
        "                    xticklabels=pops,\n",
        "                    yticklabels=False,\n",
        "                    cbar_kws={'label': 'Relationship coefficient',\n",
        "                              'orientation': 'horizontal'},\n",
        "                    dendrogram_ratio=(.1, 0),\n",
        "                    figsize=(10, 10),\n",
        "                    norm=SymLogNorm(linthresh=min_relation, base=2),\n",
        "                    row_linkage=Z2,\n",
        "                    col_linkage=Z2)\n",
        "\n",
        "# Invert the x-axis\n",
        "cm.ax_heatmap.invert_xaxis()\n",
        "\n",
        "# Colorbar\n",
        "cm.ax_cbar.yaxis.set_ticks_position('left')\n",
        "cm.ax_cbar.yaxis.set_label_position('left')\n",
        "x0, y0, w0, h0 = cm.cbar_pos\n",
        "x1, y1, w1, h1 = cm.ax_heatmap.get_position().bounds\n",
        "cm.ax_cbar.set_position([x1 + w0, y1, w1 - w0, w0 / 2])\n",
        "\n",
        "# Add a label to the row colors\n",
        "cm.ax_row_colors.set_xticks([0.5])\n",
        "cm.ax_row_colors.set_xticklabels(['Population'], rotation=90)\n",
        "\n",
        "# Move the xticklabels to the top\n",
        "cm.ax_heatmap.xaxis.set_ticks_position('top')\n",
        "cm.ax_heatmap.xaxis.set_label_position('top')\n",
        "cm.ax_heatmap.xaxis.set_tick_params(rotation=90, labelsize=720*w1/relations.shape[0])\n",
        "\n",
        "# Create a list of legend elements\n",
        "legend_elements = [Patch(facecolor=color, label=pop) for pop, color in pop_to_color.items()]\n",
        "\n",
        "# Add the legend to the plot\n",
        "cm.ax_heatmap.legend(handles=legend_elements,\n",
        "                     title='Population',\n",
        "                     bbox_to_anchor=(w1, h1 / 2),\n",
        "                     loc='center',\n",
        "                     frameon=False)\n",
        "plt.show()"
      ]
    }
  ],
  "metadata": {
    "kernelspec": {
      "display_name": ".venv",
      "language": "python",
      "name": "python3"
    },
    "language_info": {
      "codemirror_mode": {
        "name": "ipython",
        "version": 3
      },
      "file_extension": ".py",
      "mimetype": "text/x-python",
      "name": "python",
      "nbconvert_exporter": "python",
      "pygments_lexer": "ipython3",
      "version": "3.12.7"
    },
    "colab": {
      "provenance": [],
      "include_colab_link": true
    }
  },
  "nbformat": 4,
  "nbformat_minor": 0
}