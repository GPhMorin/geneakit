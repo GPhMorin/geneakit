{
  "cells": [
    {
      "cell_type": "markdown",
      "metadata": {
        "id": "view-in-github",
        "colab_type": "text"
      },
      "source": [
        "<a href=\"https://colab.research.google.com/github/GPhMorin/geneo/blob/main/examples/correlation_mds.ipynb\" target=\"_parent\"><img src=\"https://colab.research.google.com/assets/colab-badge.svg\" alt=\"Open In Colab\"/></a>"
      ]
    },
    {
      "cell_type": "markdown",
      "metadata": {
        "id": "4hjuvYcJ1__J"
      },
      "source": [
        "# Correlation computation and visualization"
      ]
    },
    {
      "cell_type": "markdown",
      "metadata": {
        "id": "gIB74HPt1__K"
      },
      "source": [
        "This script computes pairwise relationship correlation of the probands from the **genea140** dataset and plots the individuals based on those correlations."
      ]
    },
    {
      "cell_type": "code",
      "execution_count": 1,
      "metadata": {
        "colab": {
          "base_uri": "https://localhost:8080/"
        },
        "id": "LjByTMs31__L",
        "outputId": "f58aedf8-52da-4f10-d8bf-3f720186a76b"
      },
      "outputs": [
        {
          "output_type": "stream",
          "name": "stdout",
          "text": [
            "Python 3.10.12\n"
          ]
        }
      ],
      "source": [
        "!python --version"
      ]
    },
    {
      "cell_type": "markdown",
      "metadata": {
        "id": "opYIHvZ-1__M"
      },
      "source": [
        "The GENEO toolkit will be used for loading the datasets, identifying the probands, and computing the pairwise kinship coefficients."
      ]
    },
    {
      "cell_type": "code",
      "execution_count": 2,
      "metadata": {
        "colab": {
          "base_uri": "https://localhost:8080/"
        },
        "id": "YRxlJ9t41__M",
        "outputId": "4bb948bb-bf18-4f7f-f22d-1fb8ca10e2ca"
      },
      "outputs": [
        {
          "output_type": "stream",
          "name": "stdout",
          "text": [
            "Collecting https://github.com/GPhMorin/geneo/archive/main.zip\n",
            "  Downloading https://github.com/GPhMorin/geneo/archive/main.zip\n",
            "\u001b[2K     \u001b[32m\\\u001b[0m \u001b[32m1.0 MB\u001b[0m \u001b[31m3.3 MB/s\u001b[0m \u001b[33m0:00:00\u001b[0m\n",
            "\u001b[?25h  Installing build dependencies ... \u001b[?25l\u001b[?25hdone\n",
            "  Getting requirements to build wheel ... \u001b[?25l\u001b[?25hdone\n",
            "  Installing backend dependencies ... \u001b[?25l\u001b[?25hdone\n",
            "  Preparing metadata (pyproject.toml) ... \u001b[?25l\u001b[?25hdone\n",
            "Collecting scikit-bio\n",
            "  Downloading scikit-bio-0.6.2.tar.gz (2.7 MB)\n",
            "\u001b[2K     \u001b[90m━━━━━━━━━━━━━━━━━━━━━━━━━━━━━━━━━━━━━━━━\u001b[0m \u001b[32m2.7/2.7 MB\u001b[0m \u001b[31m29.1 MB/s\u001b[0m eta \u001b[36m0:00:00\u001b[0m\n",
            "\u001b[?25h  Installing build dependencies ... \u001b[?25l\u001b[?25hdone\n",
            "  Getting requirements to build wheel ... \u001b[?25l\u001b[?25hdone\n",
            "  Preparing metadata (pyproject.toml) ... \u001b[?25l\u001b[?25hdone\n",
            "Requirement already satisfied: requests>=2.20.0 in /usr/local/lib/python3.10/dist-packages (from scikit-bio) (2.32.3)\n",
            "Requirement already satisfied: decorator>=3.4.2 in /usr/local/lib/python3.10/dist-packages (from scikit-bio) (4.4.2)\n",
            "Requirement already satisfied: natsort>=4.0.3 in /usr/local/lib/python3.10/dist-packages (from scikit-bio) (8.4.0)\n",
            "Requirement already satisfied: numpy>=1.17.0 in /usr/local/lib/python3.10/dist-packages (from scikit-bio) (1.26.4)\n",
            "Requirement already satisfied: pandas>=1.5.0 in /usr/local/lib/python3.10/dist-packages (from scikit-bio) (2.2.2)\n",
            "Requirement already satisfied: scipy>=1.9.0 in /usr/local/lib/python3.10/dist-packages (from scikit-bio) (1.13.1)\n",
            "Requirement already satisfied: h5py>=3.6.0 in /usr/local/lib/python3.10/dist-packages (from scikit-bio) (3.12.1)\n",
            "Collecting biom-format>=2.1.16 (from scikit-bio)\n",
            "  Downloading biom-format-2.1.16.tar.gz (11.7 MB)\n",
            "\u001b[2K     \u001b[90m━━━━━━━━━━━━━━━━━━━━━━━━━━━━━━━━━━━━━━━━\u001b[0m \u001b[32m11.7/11.7 MB\u001b[0m \u001b[31m81.9 MB/s\u001b[0m eta \u001b[36m0:00:00\u001b[0m\n",
            "\u001b[?25h  Installing build dependencies ... \u001b[?25l\u001b[?25hdone\n",
            "  Getting requirements to build wheel ... \u001b[?25l\u001b[?25hdone\n",
            "  Preparing metadata (pyproject.toml) ... \u001b[?25l\u001b[?25hdone\n",
            "Requirement already satisfied: statsmodels>=0.14.0 in /usr/local/lib/python3.10/dist-packages (from scikit-bio) (0.14.4)\n",
            "Requirement already satisfied: click in /usr/local/lib/python3.10/dist-packages (from biom-format>=2.1.16->scikit-bio) (8.1.7)\n",
            "Requirement already satisfied: python-dateutil>=2.8.2 in /usr/local/lib/python3.10/dist-packages (from pandas>=1.5.0->scikit-bio) (2.8.2)\n",
            "Requirement already satisfied: pytz>=2020.1 in /usr/local/lib/python3.10/dist-packages (from pandas>=1.5.0->scikit-bio) (2024.2)\n",
            "Requirement already satisfied: tzdata>=2022.7 in /usr/local/lib/python3.10/dist-packages (from pandas>=1.5.0->scikit-bio) (2024.2)\n",
            "Requirement already satisfied: charset-normalizer<4,>=2 in /usr/local/lib/python3.10/dist-packages (from requests>=2.20.0->scikit-bio) (3.4.0)\n",
            "Requirement already satisfied: idna<4,>=2.5 in /usr/local/lib/python3.10/dist-packages (from requests>=2.20.0->scikit-bio) (3.10)\n",
            "Requirement already satisfied: urllib3<3,>=1.21.1 in /usr/local/lib/python3.10/dist-packages (from requests>=2.20.0->scikit-bio) (2.2.3)\n",
            "Requirement already satisfied: certifi>=2017.4.17 in /usr/local/lib/python3.10/dist-packages (from requests>=2.20.0->scikit-bio) (2024.8.30)\n",
            "Requirement already satisfied: patsy>=0.5.6 in /usr/local/lib/python3.10/dist-packages (from statsmodels>=0.14.0->scikit-bio) (0.5.6)\n",
            "Requirement already satisfied: packaging>=21.3 in /usr/local/lib/python3.10/dist-packages (from statsmodels>=0.14.0->scikit-bio) (24.1)\n",
            "Requirement already satisfied: six in /usr/local/lib/python3.10/dist-packages (from patsy>=0.5.6->statsmodels>=0.14.0->scikit-bio) (1.16.0)\n",
            "Building wheels for collected packages: scikit-bio, geneo, biom-format\n",
            "  Building wheel for scikit-bio (pyproject.toml) ... \u001b[?25l\u001b[?25hdone\n",
            "  Created wheel for scikit-bio: filename=scikit_bio-0.6.2-cp310-cp310-linux_x86_64.whl size=3971918 sha256=4b3fa21462746a09199b2e4969f237e5511f6ac34fbe15c225dc0f474a47b5b6\n",
            "  Stored in directory: /root/.cache/pip/wheels/f3/9c/ed/c2b94011fd3765a19330df93f81265e178098dd86c047c1566\n",
            "  Building wheel for geneo (pyproject.toml) ... \u001b[?25l\u001b[?25hdone\n",
            "  Created wheel for geneo: filename=geneo-0.1.0-cp310-cp310-linux_x86_64.whl size=476105 sha256=1e985546c16a7528be7a3a39f01efc8ce6154a42e6845672d7afdff8c91b003c\n",
            "  Stored in directory: /tmp/pip-ephem-wheel-cache-hafju2iq/wheels/89/82/c1/060b4460912dd0579653a87158a8c256172b90f4689b85460d\n",
            "  Building wheel for biom-format (pyproject.toml) ... \u001b[?25l\u001b[?25hdone\n",
            "  Created wheel for biom-format: filename=biom_format-2.1.16-cp310-cp310-linux_x86_64.whl size=12158973 sha256=0086ce9ca4bd35a53bd10951cb87833f15c5fcc26d1db1c0a1fe444b6aa8b0a9\n",
            "  Stored in directory: /root/.cache/pip/wheels/8e/a9/f9/197fd5a0e5bbab5f2e03c89194f6c194bed7af5d7a8c8759f3\n",
            "Successfully built scikit-bio geneo biom-format\n",
            "Installing collected packages: geneo, biom-format, scikit-bio\n",
            "Successfully installed biom-format-2.1.16 geneo-0.1.0 scikit-bio-0.6.2\n"
          ]
        }
      ],
      "source": [
        "%pip install scikit-bio https://github.com/GPhMorin/geneo/archive/main.zip"
      ]
    },
    {
      "cell_type": "code",
      "execution_count": 3,
      "metadata": {
        "id": "P46nQrwO1__N"
      },
      "outputs": [],
      "source": [
        "import numpy as np\n",
        "import pandas as pd\n",
        "from skbio.stats.ordination import pcoa\n",
        "import matplotlib.pyplot as plt\n",
        "from matplotlib.patches import Patch\n",
        "import seaborn as sns\n",
        "import geneo as gen\n",
        "from itertools import combinations\n",
        "from math import factorial"
      ]
    },
    {
      "cell_type": "markdown",
      "metadata": {
        "id": "WHcmpc1n1__N"
      },
      "source": [
        "Two datasets will be used: the **genea140** dataset, which according to the [GENLIB reference manual](https://cran.r-project.org/web/packages/GENLIB/GENLIB.pdf) corresponds to:\n",
        "> \"A genealogical corpus made of 41523 individuals from the province of Quebec, Canada. A total of 140 individuals have been sampled in seven sub-populations, listed in pop140, and their genealogies were reconstructed as far back as possible using the BALSAC population register and the Early Quebec Population Register."
      ]
    },
    {
      "cell_type": "code",
      "execution_count": 4,
      "metadata": {
        "colab": {
          "base_uri": "https://localhost:8080/"
        },
        "id": "AdX3jzSh1__N",
        "outputId": "3f1830f2-7c48-4404-f5d0-84c47c1413e5"
      },
      "outputs": [
        {
          "output_type": "execute_result",
          "data": {
            "text/plain": [
              "A pedigree with:\n",
              "41523 individuals;\n",
              "68248 parent-child relations;\n",
              "20773 men;\n",
              "20750 women;\n",
              "140 probands;\n",
              "18 generations."
            ]
          },
          "metadata": {},
          "execution_count": 4
        }
      ],
      "source": [
        "genea140 = gen.genealogy(gen.genea140)\n",
        "genea140"
      ]
    },
    {
      "cell_type": "markdown",
      "metadata": {
        "id": "VTB-0TdW1__N"
      },
      "source": [
        "The other dataset is **pop140** and accompanies **genea140**. According to the GENLIB reference manual:\n",
        "> The 140 individuals from the genealogical corpus from Quebec were sampled from 7 different populations from 5 regions; Quebec City, Montreal, Saguenay, North Shore, Gaspesia. In Gaspesia we find 3 different populations: French-Canadians, Acadians and Loyalists."
      ]
    },
    {
      "cell_type": "code",
      "execution_count": 5,
      "metadata": {
        "colab": {
          "base_uri": "https://localhost:8080/",
          "height": 359
        },
        "id": "jHqtQnCd1__O",
        "outputId": "6d22e92a-4bb8-41ce-fda3-6c4cfa3a7adb"
      },
      "outputs": [
        {
          "output_type": "execute_result",
          "data": {
            "text/plain": [
              "      ind       pop\n",
              "0  409682  Saguenay\n",
              "1  409687  Saguenay\n",
              "2  868387  Saguenay\n",
              "3  717537  Saguenay\n",
              "4  302711  Saguenay\n",
              "5  302716  Saguenay\n",
              "6  868572  Saguenay\n",
              "7  717634  Saguenay\n",
              "8  409808  Saguenay\n",
              "9  718567  Saguenay"
            ],
            "text/html": [
              "\n",
              "  <div id=\"df-fc4ba540-b05c-4c1b-93c8-a3fc4fd7ed9d\" class=\"colab-df-container\">\n",
              "    <div>\n",
              "<style scoped>\n",
              "    .dataframe tbody tr th:only-of-type {\n",
              "        vertical-align: middle;\n",
              "    }\n",
              "\n",
              "    .dataframe tbody tr th {\n",
              "        vertical-align: top;\n",
              "    }\n",
              "\n",
              "    .dataframe thead th {\n",
              "        text-align: right;\n",
              "    }\n",
              "</style>\n",
              "<table border=\"1\" class=\"dataframe\">\n",
              "  <thead>\n",
              "    <tr style=\"text-align: right;\">\n",
              "      <th></th>\n",
              "      <th>ind</th>\n",
              "      <th>pop</th>\n",
              "    </tr>\n",
              "  </thead>\n",
              "  <tbody>\n",
              "    <tr>\n",
              "      <th>0</th>\n",
              "      <td>409682</td>\n",
              "      <td>Saguenay</td>\n",
              "    </tr>\n",
              "    <tr>\n",
              "      <th>1</th>\n",
              "      <td>409687</td>\n",
              "      <td>Saguenay</td>\n",
              "    </tr>\n",
              "    <tr>\n",
              "      <th>2</th>\n",
              "      <td>868387</td>\n",
              "      <td>Saguenay</td>\n",
              "    </tr>\n",
              "    <tr>\n",
              "      <th>3</th>\n",
              "      <td>717537</td>\n",
              "      <td>Saguenay</td>\n",
              "    </tr>\n",
              "    <tr>\n",
              "      <th>4</th>\n",
              "      <td>302711</td>\n",
              "      <td>Saguenay</td>\n",
              "    </tr>\n",
              "    <tr>\n",
              "      <th>5</th>\n",
              "      <td>302716</td>\n",
              "      <td>Saguenay</td>\n",
              "    </tr>\n",
              "    <tr>\n",
              "      <th>6</th>\n",
              "      <td>868572</td>\n",
              "      <td>Saguenay</td>\n",
              "    </tr>\n",
              "    <tr>\n",
              "      <th>7</th>\n",
              "      <td>717634</td>\n",
              "      <td>Saguenay</td>\n",
              "    </tr>\n",
              "    <tr>\n",
              "      <th>8</th>\n",
              "      <td>409808</td>\n",
              "      <td>Saguenay</td>\n",
              "    </tr>\n",
              "    <tr>\n",
              "      <th>9</th>\n",
              "      <td>718567</td>\n",
              "      <td>Saguenay</td>\n",
              "    </tr>\n",
              "  </tbody>\n",
              "</table>\n",
              "</div>\n",
              "    <div class=\"colab-df-buttons\">\n",
              "\n",
              "  <div class=\"colab-df-container\">\n",
              "    <button class=\"colab-df-convert\" onclick=\"convertToInteractive('df-fc4ba540-b05c-4c1b-93c8-a3fc4fd7ed9d')\"\n",
              "            title=\"Convert this dataframe to an interactive table.\"\n",
              "            style=\"display:none;\">\n",
              "\n",
              "  <svg xmlns=\"http://www.w3.org/2000/svg\" height=\"24px\" viewBox=\"0 -960 960 960\">\n",
              "    <path d=\"M120-120v-720h720v720H120Zm60-500h600v-160H180v160Zm220 220h160v-160H400v160Zm0 220h160v-160H400v160ZM180-400h160v-160H180v160Zm440 0h160v-160H620v160ZM180-180h160v-160H180v160Zm440 0h160v-160H620v160Z\"/>\n",
              "  </svg>\n",
              "    </button>\n",
              "\n",
              "  <style>\n",
              "    .colab-df-container {\n",
              "      display:flex;\n",
              "      gap: 12px;\n",
              "    }\n",
              "\n",
              "    .colab-df-convert {\n",
              "      background-color: #E8F0FE;\n",
              "      border: none;\n",
              "      border-radius: 50%;\n",
              "      cursor: pointer;\n",
              "      display: none;\n",
              "      fill: #1967D2;\n",
              "      height: 32px;\n",
              "      padding: 0 0 0 0;\n",
              "      width: 32px;\n",
              "    }\n",
              "\n",
              "    .colab-df-convert:hover {\n",
              "      background-color: #E2EBFA;\n",
              "      box-shadow: 0px 1px 2px rgba(60, 64, 67, 0.3), 0px 1px 3px 1px rgba(60, 64, 67, 0.15);\n",
              "      fill: #174EA6;\n",
              "    }\n",
              "\n",
              "    .colab-df-buttons div {\n",
              "      margin-bottom: 4px;\n",
              "    }\n",
              "\n",
              "    [theme=dark] .colab-df-convert {\n",
              "      background-color: #3B4455;\n",
              "      fill: #D2E3FC;\n",
              "    }\n",
              "\n",
              "    [theme=dark] .colab-df-convert:hover {\n",
              "      background-color: #434B5C;\n",
              "      box-shadow: 0px 1px 3px 1px rgba(0, 0, 0, 0.15);\n",
              "      filter: drop-shadow(0px 1px 2px rgba(0, 0, 0, 0.3));\n",
              "      fill: #FFFFFF;\n",
              "    }\n",
              "  </style>\n",
              "\n",
              "    <script>\n",
              "      const buttonEl =\n",
              "        document.querySelector('#df-fc4ba540-b05c-4c1b-93c8-a3fc4fd7ed9d button.colab-df-convert');\n",
              "      buttonEl.style.display =\n",
              "        google.colab.kernel.accessAllowed ? 'block' : 'none';\n",
              "\n",
              "      async function convertToInteractive(key) {\n",
              "        const element = document.querySelector('#df-fc4ba540-b05c-4c1b-93c8-a3fc4fd7ed9d');\n",
              "        const dataTable =\n",
              "          await google.colab.kernel.invokeFunction('convertToInteractive',\n",
              "                                                    [key], {});\n",
              "        if (!dataTable) return;\n",
              "\n",
              "        const docLinkHtml = 'Like what you see? Visit the ' +\n",
              "          '<a target=\"_blank\" href=https://colab.research.google.com/notebooks/data_table.ipynb>data table notebook</a>'\n",
              "          + ' to learn more about interactive tables.';\n",
              "        element.innerHTML = '';\n",
              "        dataTable['output_type'] = 'display_data';\n",
              "        await google.colab.output.renderOutput(dataTable, element);\n",
              "        const docLink = document.createElement('div');\n",
              "        docLink.innerHTML = docLinkHtml;\n",
              "        element.appendChild(docLink);\n",
              "      }\n",
              "    </script>\n",
              "  </div>\n",
              "\n",
              "\n",
              "<div id=\"df-f8c297b7-243f-47fb-aea7-7f5cadf48d6a\">\n",
              "  <button class=\"colab-df-quickchart\" onclick=\"quickchart('df-f8c297b7-243f-47fb-aea7-7f5cadf48d6a')\"\n",
              "            title=\"Suggest charts\"\n",
              "            style=\"display:none;\">\n",
              "\n",
              "<svg xmlns=\"http://www.w3.org/2000/svg\" height=\"24px\"viewBox=\"0 0 24 24\"\n",
              "     width=\"24px\">\n",
              "    <g>\n",
              "        <path d=\"M19 3H5c-1.1 0-2 .9-2 2v14c0 1.1.9 2 2 2h14c1.1 0 2-.9 2-2V5c0-1.1-.9-2-2-2zM9 17H7v-7h2v7zm4 0h-2V7h2v10zm4 0h-2v-4h2v4z\"/>\n",
              "    </g>\n",
              "</svg>\n",
              "  </button>\n",
              "\n",
              "<style>\n",
              "  .colab-df-quickchart {\n",
              "      --bg-color: #E8F0FE;\n",
              "      --fill-color: #1967D2;\n",
              "      --hover-bg-color: #E2EBFA;\n",
              "      --hover-fill-color: #174EA6;\n",
              "      --disabled-fill-color: #AAA;\n",
              "      --disabled-bg-color: #DDD;\n",
              "  }\n",
              "\n",
              "  [theme=dark] .colab-df-quickchart {\n",
              "      --bg-color: #3B4455;\n",
              "      --fill-color: #D2E3FC;\n",
              "      --hover-bg-color: #434B5C;\n",
              "      --hover-fill-color: #FFFFFF;\n",
              "      --disabled-bg-color: #3B4455;\n",
              "      --disabled-fill-color: #666;\n",
              "  }\n",
              "\n",
              "  .colab-df-quickchart {\n",
              "    background-color: var(--bg-color);\n",
              "    border: none;\n",
              "    border-radius: 50%;\n",
              "    cursor: pointer;\n",
              "    display: none;\n",
              "    fill: var(--fill-color);\n",
              "    height: 32px;\n",
              "    padding: 0;\n",
              "    width: 32px;\n",
              "  }\n",
              "\n",
              "  .colab-df-quickchart:hover {\n",
              "    background-color: var(--hover-bg-color);\n",
              "    box-shadow: 0 1px 2px rgba(60, 64, 67, 0.3), 0 1px 3px 1px rgba(60, 64, 67, 0.15);\n",
              "    fill: var(--button-hover-fill-color);\n",
              "  }\n",
              "\n",
              "  .colab-df-quickchart-complete:disabled,\n",
              "  .colab-df-quickchart-complete:disabled:hover {\n",
              "    background-color: var(--disabled-bg-color);\n",
              "    fill: var(--disabled-fill-color);\n",
              "    box-shadow: none;\n",
              "  }\n",
              "\n",
              "  .colab-df-spinner {\n",
              "    border: 2px solid var(--fill-color);\n",
              "    border-color: transparent;\n",
              "    border-bottom-color: var(--fill-color);\n",
              "    animation:\n",
              "      spin 1s steps(1) infinite;\n",
              "  }\n",
              "\n",
              "  @keyframes spin {\n",
              "    0% {\n",
              "      border-color: transparent;\n",
              "      border-bottom-color: var(--fill-color);\n",
              "      border-left-color: var(--fill-color);\n",
              "    }\n",
              "    20% {\n",
              "      border-color: transparent;\n",
              "      border-left-color: var(--fill-color);\n",
              "      border-top-color: var(--fill-color);\n",
              "    }\n",
              "    30% {\n",
              "      border-color: transparent;\n",
              "      border-left-color: var(--fill-color);\n",
              "      border-top-color: var(--fill-color);\n",
              "      border-right-color: var(--fill-color);\n",
              "    }\n",
              "    40% {\n",
              "      border-color: transparent;\n",
              "      border-right-color: var(--fill-color);\n",
              "      border-top-color: var(--fill-color);\n",
              "    }\n",
              "    60% {\n",
              "      border-color: transparent;\n",
              "      border-right-color: var(--fill-color);\n",
              "    }\n",
              "    80% {\n",
              "      border-color: transparent;\n",
              "      border-right-color: var(--fill-color);\n",
              "      border-bottom-color: var(--fill-color);\n",
              "    }\n",
              "    90% {\n",
              "      border-color: transparent;\n",
              "      border-bottom-color: var(--fill-color);\n",
              "    }\n",
              "  }\n",
              "</style>\n",
              "\n",
              "  <script>\n",
              "    async function quickchart(key) {\n",
              "      const quickchartButtonEl =\n",
              "        document.querySelector('#' + key + ' button');\n",
              "      quickchartButtonEl.disabled = true;  // To prevent multiple clicks.\n",
              "      quickchartButtonEl.classList.add('colab-df-spinner');\n",
              "      try {\n",
              "        const charts = await google.colab.kernel.invokeFunction(\n",
              "            'suggestCharts', [key], {});\n",
              "      } catch (error) {\n",
              "        console.error('Error during call to suggestCharts:', error);\n",
              "      }\n",
              "      quickchartButtonEl.classList.remove('colab-df-spinner');\n",
              "      quickchartButtonEl.classList.add('colab-df-quickchart-complete');\n",
              "    }\n",
              "    (() => {\n",
              "      let quickchartButtonEl =\n",
              "        document.querySelector('#df-f8c297b7-243f-47fb-aea7-7f5cadf48d6a button');\n",
              "      quickchartButtonEl.style.display =\n",
              "        google.colab.kernel.accessAllowed ? 'block' : 'none';\n",
              "    })();\n",
              "  </script>\n",
              "</div>\n",
              "\n",
              "    </div>\n",
              "  </div>\n"
            ],
            "application/vnd.google.colaboratory.intrinsic+json": {
              "type": "dataframe",
              "summary": "{\n  \"name\": \"pop140\",\n  \"rows\": 10,\n  \"fields\": [\n    {\n      \"column\": \"ind\",\n      \"properties\": {\n        \"dtype\": \"number\",\n        \"std\": 226984,\n        \"min\": 302711,\n        \"max\": 868572,\n        \"num_unique_values\": 10,\n        \"samples\": [\n          409808,\n          409687,\n          302716\n        ],\n        \"semantic_type\": \"\",\n        \"description\": \"\"\n      }\n    },\n    {\n      \"column\": \"pop\",\n      \"properties\": {\n        \"dtype\": \"category\",\n        \"num_unique_values\": 1,\n        \"samples\": [\n          \"Saguenay\"\n        ],\n        \"semantic_type\": \"\",\n        \"description\": \"\"\n      }\n    }\n  ]\n}"
            }
          },
          "metadata": {},
          "execution_count": 5
        }
      ],
      "source": [
        "pop140 = pd.read_csv(gen.pop140, sep='\\t')\n",
        "pop140.iloc[:10, :]"
      ]
    },
    {
      "cell_type": "markdown",
      "metadata": {
        "id": "UwDLLUxR1__O"
      },
      "source": [
        "Now let's compute the pairwise kinship coefficients. On a recent computer, it should take just a few seconds to run the next line, especially if you have OpenMP detected during the toolkit's installation."
      ]
    },
    {
      "cell_type": "code",
      "execution_count": 6,
      "metadata": {
        "colab": {
          "base_uri": "https://localhost:8080/",
          "height": 224
        },
        "id": "qRU5QcVi1__O",
        "outputId": "cab37c35-bd08-4d3d-b070-4baa05e1149f"
      },
      "outputs": [
        {
          "output_type": "execute_result",
          "data": {
            "text/plain": [
              "          217891    218089    219947    288708    288764\n",
              "217891  0.501290  0.000235  0.005807  0.005166  0.008142\n",
              "218089  0.000235  0.500118  0.000271  0.000230  0.000230\n",
              "219947  0.005807  0.000271  0.502834  0.006361  0.007380\n",
              "288708  0.005166  0.000230  0.006361  0.502508  0.008097\n",
              "288764  0.008142  0.000230  0.007380  0.008097  0.506433"
            ],
            "text/html": [
              "\n",
              "  <div id=\"df-7972f236-0a73-4d91-8e2e-f9d089dae6b6\" class=\"colab-df-container\">\n",
              "    <div>\n",
              "<style scoped>\n",
              "    .dataframe tbody tr th:only-of-type {\n",
              "        vertical-align: middle;\n",
              "    }\n",
              "\n",
              "    .dataframe tbody tr th {\n",
              "        vertical-align: top;\n",
              "    }\n",
              "\n",
              "    .dataframe thead th {\n",
              "        text-align: right;\n",
              "    }\n",
              "</style>\n",
              "<table border=\"1\" class=\"dataframe\">\n",
              "  <thead>\n",
              "    <tr style=\"text-align: right;\">\n",
              "      <th></th>\n",
              "      <th>217891</th>\n",
              "      <th>218089</th>\n",
              "      <th>219947</th>\n",
              "      <th>288708</th>\n",
              "      <th>288764</th>\n",
              "    </tr>\n",
              "  </thead>\n",
              "  <tbody>\n",
              "    <tr>\n",
              "      <th>217891</th>\n",
              "      <td>0.501290</td>\n",
              "      <td>0.000235</td>\n",
              "      <td>0.005807</td>\n",
              "      <td>0.005166</td>\n",
              "      <td>0.008142</td>\n",
              "    </tr>\n",
              "    <tr>\n",
              "      <th>218089</th>\n",
              "      <td>0.000235</td>\n",
              "      <td>0.500118</td>\n",
              "      <td>0.000271</td>\n",
              "      <td>0.000230</td>\n",
              "      <td>0.000230</td>\n",
              "    </tr>\n",
              "    <tr>\n",
              "      <th>219947</th>\n",
              "      <td>0.005807</td>\n",
              "      <td>0.000271</td>\n",
              "      <td>0.502834</td>\n",
              "      <td>0.006361</td>\n",
              "      <td>0.007380</td>\n",
              "    </tr>\n",
              "    <tr>\n",
              "      <th>288708</th>\n",
              "      <td>0.005166</td>\n",
              "      <td>0.000230</td>\n",
              "      <td>0.006361</td>\n",
              "      <td>0.502508</td>\n",
              "      <td>0.008097</td>\n",
              "    </tr>\n",
              "    <tr>\n",
              "      <th>288764</th>\n",
              "      <td>0.008142</td>\n",
              "      <td>0.000230</td>\n",
              "      <td>0.007380</td>\n",
              "      <td>0.008097</td>\n",
              "      <td>0.506433</td>\n",
              "    </tr>\n",
              "  </tbody>\n",
              "</table>\n",
              "</div>\n",
              "    <div class=\"colab-df-buttons\">\n",
              "\n",
              "  <div class=\"colab-df-container\">\n",
              "    <button class=\"colab-df-convert\" onclick=\"convertToInteractive('df-7972f236-0a73-4d91-8e2e-f9d089dae6b6')\"\n",
              "            title=\"Convert this dataframe to an interactive table.\"\n",
              "            style=\"display:none;\">\n",
              "\n",
              "  <svg xmlns=\"http://www.w3.org/2000/svg\" height=\"24px\" viewBox=\"0 -960 960 960\">\n",
              "    <path d=\"M120-120v-720h720v720H120Zm60-500h600v-160H180v160Zm220 220h160v-160H400v160Zm0 220h160v-160H400v160ZM180-400h160v-160H180v160Zm440 0h160v-160H620v160ZM180-180h160v-160H180v160Zm440 0h160v-160H620v160Z\"/>\n",
              "  </svg>\n",
              "    </button>\n",
              "\n",
              "  <style>\n",
              "    .colab-df-container {\n",
              "      display:flex;\n",
              "      gap: 12px;\n",
              "    }\n",
              "\n",
              "    .colab-df-convert {\n",
              "      background-color: #E8F0FE;\n",
              "      border: none;\n",
              "      border-radius: 50%;\n",
              "      cursor: pointer;\n",
              "      display: none;\n",
              "      fill: #1967D2;\n",
              "      height: 32px;\n",
              "      padding: 0 0 0 0;\n",
              "      width: 32px;\n",
              "    }\n",
              "\n",
              "    .colab-df-convert:hover {\n",
              "      background-color: #E2EBFA;\n",
              "      box-shadow: 0px 1px 2px rgba(60, 64, 67, 0.3), 0px 1px 3px 1px rgba(60, 64, 67, 0.15);\n",
              "      fill: #174EA6;\n",
              "    }\n",
              "\n",
              "    .colab-df-buttons div {\n",
              "      margin-bottom: 4px;\n",
              "    }\n",
              "\n",
              "    [theme=dark] .colab-df-convert {\n",
              "      background-color: #3B4455;\n",
              "      fill: #D2E3FC;\n",
              "    }\n",
              "\n",
              "    [theme=dark] .colab-df-convert:hover {\n",
              "      background-color: #434B5C;\n",
              "      box-shadow: 0px 1px 3px 1px rgba(0, 0, 0, 0.15);\n",
              "      filter: drop-shadow(0px 1px 2px rgba(0, 0, 0, 0.3));\n",
              "      fill: #FFFFFF;\n",
              "    }\n",
              "  </style>\n",
              "\n",
              "    <script>\n",
              "      const buttonEl =\n",
              "        document.querySelector('#df-7972f236-0a73-4d91-8e2e-f9d089dae6b6 button.colab-df-convert');\n",
              "      buttonEl.style.display =\n",
              "        google.colab.kernel.accessAllowed ? 'block' : 'none';\n",
              "\n",
              "      async function convertToInteractive(key) {\n",
              "        const element = document.querySelector('#df-7972f236-0a73-4d91-8e2e-f9d089dae6b6');\n",
              "        const dataTable =\n",
              "          await google.colab.kernel.invokeFunction('convertToInteractive',\n",
              "                                                    [key], {});\n",
              "        if (!dataTable) return;\n",
              "\n",
              "        const docLinkHtml = 'Like what you see? Visit the ' +\n",
              "          '<a target=\"_blank\" href=https://colab.research.google.com/notebooks/data_table.ipynb>data table notebook</a>'\n",
              "          + ' to learn more about interactive tables.';\n",
              "        element.innerHTML = '';\n",
              "        dataTable['output_type'] = 'display_data';\n",
              "        await google.colab.output.renderOutput(dataTable, element);\n",
              "        const docLink = document.createElement('div');\n",
              "        docLink.innerHTML = docLinkHtml;\n",
              "        element.appendChild(docLink);\n",
              "      }\n",
              "    </script>\n",
              "  </div>\n",
              "\n",
              "\n",
              "<div id=\"df-4190d99b-3e8a-42bc-91c5-98e55d01d1ae\">\n",
              "  <button class=\"colab-df-quickchart\" onclick=\"quickchart('df-4190d99b-3e8a-42bc-91c5-98e55d01d1ae')\"\n",
              "            title=\"Suggest charts\"\n",
              "            style=\"display:none;\">\n",
              "\n",
              "<svg xmlns=\"http://www.w3.org/2000/svg\" height=\"24px\"viewBox=\"0 0 24 24\"\n",
              "     width=\"24px\">\n",
              "    <g>\n",
              "        <path d=\"M19 3H5c-1.1 0-2 .9-2 2v14c0 1.1.9 2 2 2h14c1.1 0 2-.9 2-2V5c0-1.1-.9-2-2-2zM9 17H7v-7h2v7zm4 0h-2V7h2v10zm4 0h-2v-4h2v4z\"/>\n",
              "    </g>\n",
              "</svg>\n",
              "  </button>\n",
              "\n",
              "<style>\n",
              "  .colab-df-quickchart {\n",
              "      --bg-color: #E8F0FE;\n",
              "      --fill-color: #1967D2;\n",
              "      --hover-bg-color: #E2EBFA;\n",
              "      --hover-fill-color: #174EA6;\n",
              "      --disabled-fill-color: #AAA;\n",
              "      --disabled-bg-color: #DDD;\n",
              "  }\n",
              "\n",
              "  [theme=dark] .colab-df-quickchart {\n",
              "      --bg-color: #3B4455;\n",
              "      --fill-color: #D2E3FC;\n",
              "      --hover-bg-color: #434B5C;\n",
              "      --hover-fill-color: #FFFFFF;\n",
              "      --disabled-bg-color: #3B4455;\n",
              "      --disabled-fill-color: #666;\n",
              "  }\n",
              "\n",
              "  .colab-df-quickchart {\n",
              "    background-color: var(--bg-color);\n",
              "    border: none;\n",
              "    border-radius: 50%;\n",
              "    cursor: pointer;\n",
              "    display: none;\n",
              "    fill: var(--fill-color);\n",
              "    height: 32px;\n",
              "    padding: 0;\n",
              "    width: 32px;\n",
              "  }\n",
              "\n",
              "  .colab-df-quickchart:hover {\n",
              "    background-color: var(--hover-bg-color);\n",
              "    box-shadow: 0 1px 2px rgba(60, 64, 67, 0.3), 0 1px 3px 1px rgba(60, 64, 67, 0.15);\n",
              "    fill: var(--button-hover-fill-color);\n",
              "  }\n",
              "\n",
              "  .colab-df-quickchart-complete:disabled,\n",
              "  .colab-df-quickchart-complete:disabled:hover {\n",
              "    background-color: var(--disabled-bg-color);\n",
              "    fill: var(--disabled-fill-color);\n",
              "    box-shadow: none;\n",
              "  }\n",
              "\n",
              "  .colab-df-spinner {\n",
              "    border: 2px solid var(--fill-color);\n",
              "    border-color: transparent;\n",
              "    border-bottom-color: var(--fill-color);\n",
              "    animation:\n",
              "      spin 1s steps(1) infinite;\n",
              "  }\n",
              "\n",
              "  @keyframes spin {\n",
              "    0% {\n",
              "      border-color: transparent;\n",
              "      border-bottom-color: var(--fill-color);\n",
              "      border-left-color: var(--fill-color);\n",
              "    }\n",
              "    20% {\n",
              "      border-color: transparent;\n",
              "      border-left-color: var(--fill-color);\n",
              "      border-top-color: var(--fill-color);\n",
              "    }\n",
              "    30% {\n",
              "      border-color: transparent;\n",
              "      border-left-color: var(--fill-color);\n",
              "      border-top-color: var(--fill-color);\n",
              "      border-right-color: var(--fill-color);\n",
              "    }\n",
              "    40% {\n",
              "      border-color: transparent;\n",
              "      border-right-color: var(--fill-color);\n",
              "      border-top-color: var(--fill-color);\n",
              "    }\n",
              "    60% {\n",
              "      border-color: transparent;\n",
              "      border-right-color: var(--fill-color);\n",
              "    }\n",
              "    80% {\n",
              "      border-color: transparent;\n",
              "      border-right-color: var(--fill-color);\n",
              "      border-bottom-color: var(--fill-color);\n",
              "    }\n",
              "    90% {\n",
              "      border-color: transparent;\n",
              "      border-bottom-color: var(--fill-color);\n",
              "    }\n",
              "  }\n",
              "</style>\n",
              "\n",
              "  <script>\n",
              "    async function quickchart(key) {\n",
              "      const quickchartButtonEl =\n",
              "        document.querySelector('#' + key + ' button');\n",
              "      quickchartButtonEl.disabled = true;  // To prevent multiple clicks.\n",
              "      quickchartButtonEl.classList.add('colab-df-spinner');\n",
              "      try {\n",
              "        const charts = await google.colab.kernel.invokeFunction(\n",
              "            'suggestCharts', [key], {});\n",
              "      } catch (error) {\n",
              "        console.error('Error during call to suggestCharts:', error);\n",
              "      }\n",
              "      quickchartButtonEl.classList.remove('colab-df-spinner');\n",
              "      quickchartButtonEl.classList.add('colab-df-quickchart-complete');\n",
              "    }\n",
              "    (() => {\n",
              "      let quickchartButtonEl =\n",
              "        document.querySelector('#df-4190d99b-3e8a-42bc-91c5-98e55d01d1ae button');\n",
              "      quickchartButtonEl.style.display =\n",
              "        google.colab.kernel.accessAllowed ? 'block' : 'none';\n",
              "    })();\n",
              "  </script>\n",
              "</div>\n",
              "\n",
              "    </div>\n",
              "  </div>\n"
            ],
            "application/vnd.google.colaboratory.intrinsic+json": {
              "type": "dataframe",
              "summary": "{\n  \"name\": \"phi\",\n  \"rows\": 5,\n  \"fields\": [\n    {\n      \"column\": 217891,\n      \"properties\": {\n        \"dtype\": \"number\",\n        \"std\": 0.2220390046131796,\n        \"min\": 0.0002352893352508545,\n        \"max\": 0.5012900829315186,\n        \"num_unique_values\": 5,\n        \"samples\": [\n          0.0002352893352508545,\n          0.008142024278640747,\n          0.005806714296340942\n        ],\n        \"semantic_type\": \"\",\n        \"description\": \"\"\n      }\n    },\n    {\n      \"column\": 218089,\n      \"properties\": {\n        \"dtype\": \"number\",\n        \"std\": 0.22355155423702164,\n        \"min\": 0.0002298690378665924,\n        \"max\": 0.5001179724931717,\n        \"num_unique_values\": 5,\n        \"samples\": [\n          0.5001179724931717,\n          0.00023014843463897705,\n          0.00027070194482803345\n        ],\n        \"semantic_type\": \"\",\n        \"description\": \"\"\n      }\n    },\n    {\n      \"column\": 219947,\n      \"properties\": {\n        \"dtype\": \"number\",\n        \"std\": 0.22267559583577093,\n        \"min\": 0.00027070194482803345,\n        \"max\": 0.5028340220451355,\n        \"num_unique_values\": 5,\n        \"samples\": [\n          0.00027070194482803345,\n          0.007379874587059021,\n          0.5028340220451355\n        ],\n        \"semantic_type\": \"\",\n        \"description\": \"\"\n      }\n    },\n    {\n      \"column\": 288708,\n      \"properties\": {\n        \"dtype\": \"number\",\n        \"std\": 0.222527947959184,\n        \"min\": 0.0002298690378665924,\n        \"max\": 0.5025082118809223,\n        \"num_unique_values\": 5,\n        \"samples\": [\n          0.0002298690378665924,\n          0.008097480982542038,\n          0.006360989063978195\n        ],\n        \"semantic_type\": \"\",\n        \"description\": \"\"\n      }\n    },\n    {\n      \"column\": 288764,\n      \"properties\": {\n        \"dtype\": \"number\",\n        \"std\": 0.2238419136151046,\n        \"min\": 0.00023014843463897705,\n        \"max\": 0.5064329504966736,\n        \"num_unique_values\": 5,\n        \"samples\": [\n          0.00023014843463897705,\n          0.5064329504966736,\n          0.007379874587059021\n        ],\n        \"semantic_type\": \"\",\n        \"description\": \"\"\n      }\n    }\n  ]\n}"
            }
          },
          "metadata": {},
          "execution_count": 6
        }
      ],
      "source": [
        "phi = gen.phi(genea140)\n",
        "phi.iloc[:5, :5]"
      ]
    },
    {
      "cell_type": "markdown",
      "source": [
        "The pairwise kinship coefficients are then transformed into correlations, where an individual with themself has a correlation of 1 and two unrelated individuals have a correlation of 0."
      ],
      "metadata": {
        "id": "6KdQrRbP5B0I"
      }
    },
    {
      "cell_type": "code",
      "source": [
        "corr = phi.copy()\n",
        "for i in range(corr.shape[0]):\n",
        "    for j in range(corr.shape[1]):\n",
        "        if i != j:\n",
        "            corr.iloc[i, j] = corr.iloc[i, j] / (np.sqrt(phi.iloc[i, i]) * np.sqrt(phi.iloc[j, j]))\n",
        "for i in range(corr.shape[0]):\n",
        "    corr.iloc[i, i] = 1\n",
        "corr.iloc[:5, :5]"
      ],
      "metadata": {
        "id": "XxgxqWHQ5PEz",
        "outputId": "55340357-25e4-471f-d8bc-50dc4526fb6e",
        "colab": {
          "base_uri": "https://localhost:8080/",
          "height": 224
        }
      },
      "execution_count": 7,
      "outputs": [
        {
          "output_type": "execute_result",
          "data": {
            "text/plain": [
              "          217891    218089    219947    288708    288764\n",
              "217891  1.000000  0.000470  0.011566  0.010293  0.016159\n",
              "218089  0.000470  1.000000  0.000540  0.000459  0.000457\n",
              "219947  0.011566  0.000540  1.000000  0.012654  0.014624\n",
              "288708  0.010293  0.000459  0.012654  1.000000  0.016052\n",
              "288764  0.016159  0.000457  0.014624  0.016052  1.000000"
            ],
            "text/html": [
              "\n",
              "  <div id=\"df-b48d73fb-93f2-4be4-9825-00b54f45bd8f\" class=\"colab-df-container\">\n",
              "    <div>\n",
              "<style scoped>\n",
              "    .dataframe tbody tr th:only-of-type {\n",
              "        vertical-align: middle;\n",
              "    }\n",
              "\n",
              "    .dataframe tbody tr th {\n",
              "        vertical-align: top;\n",
              "    }\n",
              "\n",
              "    .dataframe thead th {\n",
              "        text-align: right;\n",
              "    }\n",
              "</style>\n",
              "<table border=\"1\" class=\"dataframe\">\n",
              "  <thead>\n",
              "    <tr style=\"text-align: right;\">\n",
              "      <th></th>\n",
              "      <th>217891</th>\n",
              "      <th>218089</th>\n",
              "      <th>219947</th>\n",
              "      <th>288708</th>\n",
              "      <th>288764</th>\n",
              "    </tr>\n",
              "  </thead>\n",
              "  <tbody>\n",
              "    <tr>\n",
              "      <th>217891</th>\n",
              "      <td>1.000000</td>\n",
              "      <td>0.000470</td>\n",
              "      <td>0.011566</td>\n",
              "      <td>0.010293</td>\n",
              "      <td>0.016159</td>\n",
              "    </tr>\n",
              "    <tr>\n",
              "      <th>218089</th>\n",
              "      <td>0.000470</td>\n",
              "      <td>1.000000</td>\n",
              "      <td>0.000540</td>\n",
              "      <td>0.000459</td>\n",
              "      <td>0.000457</td>\n",
              "    </tr>\n",
              "    <tr>\n",
              "      <th>219947</th>\n",
              "      <td>0.011566</td>\n",
              "      <td>0.000540</td>\n",
              "      <td>1.000000</td>\n",
              "      <td>0.012654</td>\n",
              "      <td>0.014624</td>\n",
              "    </tr>\n",
              "    <tr>\n",
              "      <th>288708</th>\n",
              "      <td>0.010293</td>\n",
              "      <td>0.000459</td>\n",
              "      <td>0.012654</td>\n",
              "      <td>1.000000</td>\n",
              "      <td>0.016052</td>\n",
              "    </tr>\n",
              "    <tr>\n",
              "      <th>288764</th>\n",
              "      <td>0.016159</td>\n",
              "      <td>0.000457</td>\n",
              "      <td>0.014624</td>\n",
              "      <td>0.016052</td>\n",
              "      <td>1.000000</td>\n",
              "    </tr>\n",
              "  </tbody>\n",
              "</table>\n",
              "</div>\n",
              "    <div class=\"colab-df-buttons\">\n",
              "\n",
              "  <div class=\"colab-df-container\">\n",
              "    <button class=\"colab-df-convert\" onclick=\"convertToInteractive('df-b48d73fb-93f2-4be4-9825-00b54f45bd8f')\"\n",
              "            title=\"Convert this dataframe to an interactive table.\"\n",
              "            style=\"display:none;\">\n",
              "\n",
              "  <svg xmlns=\"http://www.w3.org/2000/svg\" height=\"24px\" viewBox=\"0 -960 960 960\">\n",
              "    <path d=\"M120-120v-720h720v720H120Zm60-500h600v-160H180v160Zm220 220h160v-160H400v160Zm0 220h160v-160H400v160ZM180-400h160v-160H180v160Zm440 0h160v-160H620v160ZM180-180h160v-160H180v160Zm440 0h160v-160H620v160Z\"/>\n",
              "  </svg>\n",
              "    </button>\n",
              "\n",
              "  <style>\n",
              "    .colab-df-container {\n",
              "      display:flex;\n",
              "      gap: 12px;\n",
              "    }\n",
              "\n",
              "    .colab-df-convert {\n",
              "      background-color: #E8F0FE;\n",
              "      border: none;\n",
              "      border-radius: 50%;\n",
              "      cursor: pointer;\n",
              "      display: none;\n",
              "      fill: #1967D2;\n",
              "      height: 32px;\n",
              "      padding: 0 0 0 0;\n",
              "      width: 32px;\n",
              "    }\n",
              "\n",
              "    .colab-df-convert:hover {\n",
              "      background-color: #E2EBFA;\n",
              "      box-shadow: 0px 1px 2px rgba(60, 64, 67, 0.3), 0px 1px 3px 1px rgba(60, 64, 67, 0.15);\n",
              "      fill: #174EA6;\n",
              "    }\n",
              "\n",
              "    .colab-df-buttons div {\n",
              "      margin-bottom: 4px;\n",
              "    }\n",
              "\n",
              "    [theme=dark] .colab-df-convert {\n",
              "      background-color: #3B4455;\n",
              "      fill: #D2E3FC;\n",
              "    }\n",
              "\n",
              "    [theme=dark] .colab-df-convert:hover {\n",
              "      background-color: #434B5C;\n",
              "      box-shadow: 0px 1px 3px 1px rgba(0, 0, 0, 0.15);\n",
              "      filter: drop-shadow(0px 1px 2px rgba(0, 0, 0, 0.3));\n",
              "      fill: #FFFFFF;\n",
              "    }\n",
              "  </style>\n",
              "\n",
              "    <script>\n",
              "      const buttonEl =\n",
              "        document.querySelector('#df-b48d73fb-93f2-4be4-9825-00b54f45bd8f button.colab-df-convert');\n",
              "      buttonEl.style.display =\n",
              "        google.colab.kernel.accessAllowed ? 'block' : 'none';\n",
              "\n",
              "      async function convertToInteractive(key) {\n",
              "        const element = document.querySelector('#df-b48d73fb-93f2-4be4-9825-00b54f45bd8f');\n",
              "        const dataTable =\n",
              "          await google.colab.kernel.invokeFunction('convertToInteractive',\n",
              "                                                    [key], {});\n",
              "        if (!dataTable) return;\n",
              "\n",
              "        const docLinkHtml = 'Like what you see? Visit the ' +\n",
              "          '<a target=\"_blank\" href=https://colab.research.google.com/notebooks/data_table.ipynb>data table notebook</a>'\n",
              "          + ' to learn more about interactive tables.';\n",
              "        element.innerHTML = '';\n",
              "        dataTable['output_type'] = 'display_data';\n",
              "        await google.colab.output.renderOutput(dataTable, element);\n",
              "        const docLink = document.createElement('div');\n",
              "        docLink.innerHTML = docLinkHtml;\n",
              "        element.appendChild(docLink);\n",
              "      }\n",
              "    </script>\n",
              "  </div>\n",
              "\n",
              "\n",
              "<div id=\"df-86f7eab7-f032-4433-b50d-e2c16130f666\">\n",
              "  <button class=\"colab-df-quickchart\" onclick=\"quickchart('df-86f7eab7-f032-4433-b50d-e2c16130f666')\"\n",
              "            title=\"Suggest charts\"\n",
              "            style=\"display:none;\">\n",
              "\n",
              "<svg xmlns=\"http://www.w3.org/2000/svg\" height=\"24px\"viewBox=\"0 0 24 24\"\n",
              "     width=\"24px\">\n",
              "    <g>\n",
              "        <path d=\"M19 3H5c-1.1 0-2 .9-2 2v14c0 1.1.9 2 2 2h14c1.1 0 2-.9 2-2V5c0-1.1-.9-2-2-2zM9 17H7v-7h2v7zm4 0h-2V7h2v10zm4 0h-2v-4h2v4z\"/>\n",
              "    </g>\n",
              "</svg>\n",
              "  </button>\n",
              "\n",
              "<style>\n",
              "  .colab-df-quickchart {\n",
              "      --bg-color: #E8F0FE;\n",
              "      --fill-color: #1967D2;\n",
              "      --hover-bg-color: #E2EBFA;\n",
              "      --hover-fill-color: #174EA6;\n",
              "      --disabled-fill-color: #AAA;\n",
              "      --disabled-bg-color: #DDD;\n",
              "  }\n",
              "\n",
              "  [theme=dark] .colab-df-quickchart {\n",
              "      --bg-color: #3B4455;\n",
              "      --fill-color: #D2E3FC;\n",
              "      --hover-bg-color: #434B5C;\n",
              "      --hover-fill-color: #FFFFFF;\n",
              "      --disabled-bg-color: #3B4455;\n",
              "      --disabled-fill-color: #666;\n",
              "  }\n",
              "\n",
              "  .colab-df-quickchart {\n",
              "    background-color: var(--bg-color);\n",
              "    border: none;\n",
              "    border-radius: 50%;\n",
              "    cursor: pointer;\n",
              "    display: none;\n",
              "    fill: var(--fill-color);\n",
              "    height: 32px;\n",
              "    padding: 0;\n",
              "    width: 32px;\n",
              "  }\n",
              "\n",
              "  .colab-df-quickchart:hover {\n",
              "    background-color: var(--hover-bg-color);\n",
              "    box-shadow: 0 1px 2px rgba(60, 64, 67, 0.3), 0 1px 3px 1px rgba(60, 64, 67, 0.15);\n",
              "    fill: var(--button-hover-fill-color);\n",
              "  }\n",
              "\n",
              "  .colab-df-quickchart-complete:disabled,\n",
              "  .colab-df-quickchart-complete:disabled:hover {\n",
              "    background-color: var(--disabled-bg-color);\n",
              "    fill: var(--disabled-fill-color);\n",
              "    box-shadow: none;\n",
              "  }\n",
              "\n",
              "  .colab-df-spinner {\n",
              "    border: 2px solid var(--fill-color);\n",
              "    border-color: transparent;\n",
              "    border-bottom-color: var(--fill-color);\n",
              "    animation:\n",
              "      spin 1s steps(1) infinite;\n",
              "  }\n",
              "\n",
              "  @keyframes spin {\n",
              "    0% {\n",
              "      border-color: transparent;\n",
              "      border-bottom-color: var(--fill-color);\n",
              "      border-left-color: var(--fill-color);\n",
              "    }\n",
              "    20% {\n",
              "      border-color: transparent;\n",
              "      border-left-color: var(--fill-color);\n",
              "      border-top-color: var(--fill-color);\n",
              "    }\n",
              "    30% {\n",
              "      border-color: transparent;\n",
              "      border-left-color: var(--fill-color);\n",
              "      border-top-color: var(--fill-color);\n",
              "      border-right-color: var(--fill-color);\n",
              "    }\n",
              "    40% {\n",
              "      border-color: transparent;\n",
              "      border-right-color: var(--fill-color);\n",
              "      border-top-color: var(--fill-color);\n",
              "    }\n",
              "    60% {\n",
              "      border-color: transparent;\n",
              "      border-right-color: var(--fill-color);\n",
              "    }\n",
              "    80% {\n",
              "      border-color: transparent;\n",
              "      border-right-color: var(--fill-color);\n",
              "      border-bottom-color: var(--fill-color);\n",
              "    }\n",
              "    90% {\n",
              "      border-color: transparent;\n",
              "      border-bottom-color: var(--fill-color);\n",
              "    }\n",
              "  }\n",
              "</style>\n",
              "\n",
              "  <script>\n",
              "    async function quickchart(key) {\n",
              "      const quickchartButtonEl =\n",
              "        document.querySelector('#' + key + ' button');\n",
              "      quickchartButtonEl.disabled = true;  // To prevent multiple clicks.\n",
              "      quickchartButtonEl.classList.add('colab-df-spinner');\n",
              "      try {\n",
              "        const charts = await google.colab.kernel.invokeFunction(\n",
              "            'suggestCharts', [key], {});\n",
              "      } catch (error) {\n",
              "        console.error('Error during call to suggestCharts:', error);\n",
              "      }\n",
              "      quickchartButtonEl.classList.remove('colab-df-spinner');\n",
              "      quickchartButtonEl.classList.add('colab-df-quickchart-complete');\n",
              "    }\n",
              "    (() => {\n",
              "      let quickchartButtonEl =\n",
              "        document.querySelector('#df-86f7eab7-f032-4433-b50d-e2c16130f666 button');\n",
              "      quickchartButtonEl.style.display =\n",
              "        google.colab.kernel.accessAllowed ? 'block' : 'none';\n",
              "    })();\n",
              "  </script>\n",
              "</div>\n",
              "\n",
              "    </div>\n",
              "  </div>\n"
            ],
            "application/vnd.google.colaboratory.intrinsic+json": {
              "type": "dataframe",
              "summary": "{\n  \"name\": \"corr\",\n  \"rows\": 5,\n  \"fields\": [\n    {\n      \"column\": 217891,\n      \"properties\": {\n        \"dtype\": \"number\",\n        \"std\": 0.4429473982803685,\n        \"min\": 0.00046991732320812854,\n        \"max\": 1.0,\n        \"num_unique_values\": 5,\n        \"samples\": [\n          0.00046991732320812854,\n          0.016159460568224777,\n          0.011565743978681355\n        ],\n        \"semantic_type\": \"\",\n        \"description\": \"\"\n      }\n    },\n    {\n      \"column\": 218089,\n      \"properties\": {\n        \"dtype\": \"number\",\n        \"std\": 0.44699831097141585,\n        \"min\": 0.00045731012513207636,\n        \"max\": 1.0,\n        \"num_unique_values\": 5,\n        \"samples\": [\n          1.0,\n          0.00045731012513207636,\n          0.0005398123517629032\n        ],\n        \"semantic_type\": \"\",\n        \"description\": \"\"\n      }\n    },\n    {\n      \"column\": 219947,\n      \"properties\": {\n        \"dtype\": \"number\",\n        \"std\": 0.44284425507131725,\n        \"min\": 0.0005398123517629032,\n        \"max\": 1.0,\n        \"num_unique_values\": 5,\n        \"samples\": [\n          0.0005398123517629032,\n          0.014624319843561221,\n          1.0\n        ],\n        \"semantic_type\": \"\",\n        \"description\": \"\"\n      }\n    },\n    {\n      \"column\": 288708,\n      \"properties\": {\n        \"dtype\": \"number\",\n        \"std\": 0.44284015691660616,\n        \"min\": 0.00045853518423008636,\n        \"max\": 1.0,\n        \"num_unique_values\": 5,\n        \"samples\": [\n          0.00045853518423008636,\n          0.016051564847992167,\n          0.012654376158406188\n        ],\n        \"semantic_type\": \"\",\n        \"description\": \"\"\n      }\n    },\n    {\n      \"column\": 288764,\n      \"properties\": {\n        \"dtype\": \"number\",\n        \"std\": 0.4419752480509308,\n        \"min\": 0.00045731012513207636,\n        \"max\": 1.0,\n        \"num_unique_values\": 5,\n        \"samples\": [\n          0.00045731012513207636,\n          1.0,\n          0.014624319843561221\n        ],\n        \"semantic_type\": \"\",\n        \"description\": \"\"\n      }\n    }\n  ]\n}"
            }
          },
          "metadata": {},
          "execution_count": 7
        }
      ]
    },
    {
      "cell_type": "markdown",
      "metadata": {
        "id": "_LVwIels1__O"
      },
      "source": [
        "In another situation where the genealogies are bigger, you can run `gen.phi(genea140, compute=False)` to get information about the minimum RAM required."
      ]
    },
    {
      "cell_type": "code",
      "execution_count": 8,
      "metadata": {
        "colab": {
          "base_uri": "https://localhost:8080/"
        },
        "id": "5YN6mTyZ1__O",
        "outputId": "b9e212f0-945f-43f9-ceed-74ca4bd2ab7b"
      },
      "outputs": [
        {
          "output_type": "stream",
          "name": "stdout",
          "text": [
            "You will require at least 2.84 GB of RAM.\n"
          ]
        }
      ],
      "source": [
        "gen.phi(genea140, compute=False)"
      ]
    },
    {
      "cell_type": "markdown",
      "source": [
        "Let's embed the data into two-dimensional space."
      ],
      "metadata": {
        "id": "NF3OxHx_rOiy"
      }
    },
    {
      "cell_type": "code",
      "execution_count": 9,
      "metadata": {
        "colab": {
          "base_uri": "https://localhost:8080/"
        },
        "id": "V6CqaOa01__P",
        "outputId": "284cb651-4601-42a2-ca60-8b2cab7d45a2"
      },
      "outputs": [
        {
          "output_type": "execute_result",
          "data": {
            "text/plain": [
              "array([[-5.18105606e-02,  9.52585285e-02, -1.27600190e-02, ...,\n",
              "         2.65104218e-03, -1.20825912e-03, -0.00000000e+00],\n",
              "       [ 3.56952569e-03, -5.88882471e-02,  2.20050785e-02, ...,\n",
              "         2.17729879e-03, -3.61796461e-04, -0.00000000e+00],\n",
              "       [-8.67232735e-02,  6.55693182e-02, -2.77563198e-03, ...,\n",
              "         2.57800453e-03,  9.40230469e-04, -0.00000000e+00],\n",
              "       ...,\n",
              "       [-1.19595318e-01,  1.09163640e-01, -6.96378383e-03, ...,\n",
              "         1.49170941e-04,  1.65735317e-05, -0.00000000e+00],\n",
              "       [-1.36675030e-01,  1.29893827e-01, -9.70484849e-03, ...,\n",
              "         7.28436338e-04,  3.22599286e-04, -0.00000000e+00],\n",
              "       [-1.01432945e-01,  8.40463200e-02, -1.05685540e-03, ...,\n",
              "         1.61547503e-04, -1.08776409e-04, -0.00000000e+00]])"
            ]
          },
          "metadata": {},
          "execution_count": 9
        }
      ],
      "source": [
        "results = pcoa(1 - corr)\n",
        "emb = results.samples.to_numpy()\n",
        "emb[:10, :]"
      ]
    },
    {
      "cell_type": "code",
      "source": [
        "ratios = results.proportion_explained\n",
        "ratios"
      ],
      "metadata": {
        "id": "uF2XQMKdwn4n",
        "outputId": "b047d5fc-b490-4fe7-c200-f18102251b26",
        "colab": {
          "base_uri": "https://localhost:8080/",
          "height": 453
        }
      },
      "execution_count": 10,
      "outputs": [
        {
          "output_type": "execute_result",
          "data": {
            "text/plain": [
              "PC1      0.013699\n",
              "PC2      0.011331\n",
              "PC3      0.008993\n",
              "PC4      0.008531\n",
              "PC5      0.008257\n",
              "           ...   \n",
              "PC136    0.006397\n",
              "PC137    0.006293\n",
              "PC138    0.006169\n",
              "PC139    0.005533\n",
              "PC140    0.000000\n",
              "Length: 140, dtype: float64"
            ],
            "text/html": [
              "<div>\n",
              "<style scoped>\n",
              "    .dataframe tbody tr th:only-of-type {\n",
              "        vertical-align: middle;\n",
              "    }\n",
              "\n",
              "    .dataframe tbody tr th {\n",
              "        vertical-align: top;\n",
              "    }\n",
              "\n",
              "    .dataframe thead th {\n",
              "        text-align: right;\n",
              "    }\n",
              "</style>\n",
              "<table border=\"1\" class=\"dataframe\">\n",
              "  <thead>\n",
              "    <tr style=\"text-align: right;\">\n",
              "      <th></th>\n",
              "      <th>0</th>\n",
              "    </tr>\n",
              "  </thead>\n",
              "  <tbody>\n",
              "    <tr>\n",
              "      <th>PC1</th>\n",
              "      <td>0.013699</td>\n",
              "    </tr>\n",
              "    <tr>\n",
              "      <th>PC2</th>\n",
              "      <td>0.011331</td>\n",
              "    </tr>\n",
              "    <tr>\n",
              "      <th>PC3</th>\n",
              "      <td>0.008993</td>\n",
              "    </tr>\n",
              "    <tr>\n",
              "      <th>PC4</th>\n",
              "      <td>0.008531</td>\n",
              "    </tr>\n",
              "    <tr>\n",
              "      <th>PC5</th>\n",
              "      <td>0.008257</td>\n",
              "    </tr>\n",
              "    <tr>\n",
              "      <th>...</th>\n",
              "      <td>...</td>\n",
              "    </tr>\n",
              "    <tr>\n",
              "      <th>PC136</th>\n",
              "      <td>0.006397</td>\n",
              "    </tr>\n",
              "    <tr>\n",
              "      <th>PC137</th>\n",
              "      <td>0.006293</td>\n",
              "    </tr>\n",
              "    <tr>\n",
              "      <th>PC138</th>\n",
              "      <td>0.006169</td>\n",
              "    </tr>\n",
              "    <tr>\n",
              "      <th>PC139</th>\n",
              "      <td>0.005533</td>\n",
              "    </tr>\n",
              "    <tr>\n",
              "      <th>PC140</th>\n",
              "      <td>0.000000</td>\n",
              "    </tr>\n",
              "  </tbody>\n",
              "</table>\n",
              "<p>140 rows × 1 columns</p>\n",
              "</div><br><label><b>dtype:</b> float64</label>"
            ]
          },
          "metadata": {},
          "execution_count": 10
        }
      ]
    },
    {
      "cell_type": "markdown",
      "metadata": {
        "id": "ls3DtIAI1__P"
      },
      "source": [
        "Probands are identified using the `gen.pro` function."
      ]
    },
    {
      "cell_type": "code",
      "execution_count": 11,
      "metadata": {
        "colab": {
          "base_uri": "https://localhost:8080/"
        },
        "id": "K8CDEb4U1__P",
        "outputId": "473b3736-c7b0-4bd7-e1b6-d4669dc2bddc"
      },
      "outputs": [
        {
          "output_type": "execute_result",
          "data": {
            "text/plain": [
              "[217891,\n",
              " 218089,\n",
              " 219947,\n",
              " 288708,\n",
              " 288764,\n",
              " 302710,\n",
              " 302711,\n",
              " 302716,\n",
              " 302717,\n",
              " 302718]"
            ]
          },
          "metadata": {},
          "execution_count": 11
        }
      ],
      "source": [
        "pro = gen.pro(genea140)\n",
        "pro[:10]"
      ]
    },
    {
      "cell_type": "markdown",
      "metadata": {
        "id": "ZYGCyDuY1__Q"
      },
      "source": [
        "For each proband, we obtain their corresponding population from the **pop140** dataset."
      ]
    },
    {
      "cell_type": "code",
      "execution_count": 12,
      "metadata": {
        "colab": {
          "base_uri": "https://localhost:8080/"
        },
        "id": "Woscwaj31__Q",
        "outputId": "cef0d0a7-9197-4c69-d3d6-60232fb78033"
      },
      "outputs": [
        {
          "output_type": "execute_result",
          "data": {
            "text/plain": [
              "['Saguenay',\n",
              " 'Saguenay',\n",
              " 'Saguenay',\n",
              " 'Saguenay',\n",
              " 'Saguenay',\n",
              " 'Saguenay',\n",
              " 'Saguenay',\n",
              " 'Saguenay',\n",
              " 'Saguenay',\n",
              " 'Saguenay']"
            ]
          },
          "metadata": {},
          "execution_count": 12
        }
      ],
      "source": [
        "pops = [pop140.loc[pop140['ind'] == ind, 'pop'].iloc[0] for ind in pro]\n",
        "pops[:10]"
      ]
    },
    {
      "cell_type": "markdown",
      "source": [
        "For each population, we get the corresponding abbreviation."
      ],
      "metadata": {
        "id": "-zFYzADOraTN"
      }
    },
    {
      "cell_type": "code",
      "execution_count": 13,
      "metadata": {
        "id": "jK7xaYlkXIzr"
      },
      "outputs": [],
      "source": [
        "population_to_pop = {\n",
        "    'Gaspesia-Acadian': 'ACA',\n",
        "    'Gaspesia-FrenchCanadian': 'GFC',\n",
        "    'Gaspesia-Loyalist': 'LOY',\n",
        "    'Montreal': 'MON',\n",
        "    'NorthShore': 'NS',\n",
        "    'Quebec': 'QUE',\n",
        "    'Saguenay': 'SAG'\n",
        "}"
      ]
    },
    {
      "cell_type": "markdown",
      "source": [
        "For each abbreviation, we get the corresponding color."
      ],
      "metadata": {
        "id": "H26wMuX_re_A"
      }
    },
    {
      "cell_type": "code",
      "execution_count": 14,
      "metadata": {
        "id": "Sc5F8vbJXIzr"
      },
      "outputs": [],
      "source": [
        "pop_to_color = {\n",
        "    'ACA': 'red',\n",
        "    'GFC': 'purple',\n",
        "    'LOY': 'lime',\n",
        "    'MON': 'orange',\n",
        "    'NS': 'cyan',\n",
        "    'QUE': 'blue',\n",
        "    'SAG': 'darkgreen',\n",
        "}"
      ]
    },
    {
      "cell_type": "markdown",
      "source": [
        "Let's extract the color for each proband."
      ],
      "metadata": {
        "id": "3aIIgp74rieO"
      }
    },
    {
      "cell_type": "code",
      "execution_count": 15,
      "metadata": {
        "colab": {
          "base_uri": "https://localhost:8080/"
        },
        "id": "rNS1tppwXIzr",
        "outputId": "15fabaec-a2c6-4136-8e51-c6fed562c46b"
      },
      "outputs": [
        {
          "output_type": "execute_result",
          "data": {
            "text/plain": [
              "['darkgreen',\n",
              " 'darkgreen',\n",
              " 'darkgreen',\n",
              " 'darkgreen',\n",
              " 'darkgreen',\n",
              " 'darkgreen',\n",
              " 'darkgreen',\n",
              " 'darkgreen',\n",
              " 'darkgreen',\n",
              " 'darkgreen']"
            ]
          },
          "metadata": {},
          "execution_count": 15
        }
      ],
      "source": [
        "colors = [pop_to_color[population_to_pop[pop]] for pop in pops]\n",
        "colors[:10]"
      ]
    },
    {
      "cell_type": "markdown",
      "metadata": {
        "id": "VYWoVisK1__Q"
      },
      "source": [
        "Finally, let's see the results."
      ]
    },
    {
      "cell_type": "code",
      "execution_count": 16,
      "metadata": {
        "colab": {
          "base_uri": "https://localhost:8080/",
          "height": 155
        },
        "id": "8c4R6m4g1__Q",
        "outputId": "898d3cb7-59f5-4c82-a751-f53a3f7c8d0c"
      },
      "outputs": [
        {
          "output_type": "display_data",
          "data": {
            "text/plain": [
              "<Figure size 1000x500 with 2 Axes>"
            ],
            "image/png": "[encoded data removed]"
          },
          "metadata": {}
        }
      ],
      "source": [
        "fig, ax = plt.subplots(1, 2, figsize=(10, 5))\n",
        "left = sns.scatterplot(x=emb[:, 0], y=emb[:, 1], hue=colors, ax=ax[0],\n",
        "                     palette={color: color for color in pop_to_color.values()})\n",
        "left.set_box_aspect(1)\n",
        "ratio = round(ratios.iloc[0]*100, 2)\n",
        "left.set_xlabel(f'PCoA1 ({ratio}%)')\n",
        "ratio = round(ratios.iloc[1]*100, 2)\n",
        "left.set_ylabel(f'PCoA2 ({ratio}%)')\n",
        "\n",
        "# Get the current axis\n",
        "x0, y0, w, h = left.get_position().bounds\n",
        "\n",
        "# Rotate the y axis labels\n",
        "yticks = left.get_yticks()\n",
        "yticklabels = left.get_yticklabels()\n",
        "left.set_yticks(yticks, yticklabels, va='center', rotation=90)\n",
        "\n",
        "# Disable legend for the left side\n",
        "left.get_legend().remove()\n",
        "\n",
        "\n",
        "right = sns.scatterplot(x=emb[:, 0], y=emb[:, 2], hue=colors, ax=ax[1],\n",
        "                     palette={color: color for color in pop_to_color.values()})\n",
        "right.set_box_aspect(1)\n",
        "ratio = round(ratios.iloc[0]*100, 2)\n",
        "right.set_xlabel(f'PCoA1 ({ratio}%)')\n",
        "ratio = round(ratios.iloc[2]*100, 2)\n",
        "right.set_ylabel(f'PCoA3 ({ratio}%)')\n",
        "\n",
        "# Get the current axis\n",
        "x0, y0, w, h = left.get_position().bounds\n",
        "\n",
        "# Rotate the y axis labels\n",
        "yticks = right.get_yticks()\n",
        "yticklabels = right.get_yticklabels()\n",
        "right.set_yticks(yticks, yticklabels, va='center', rotation=90)\n",
        "\n",
        "\n",
        "# Create a list of legend elements\n",
        "legend_elements = [Patch(facecolor=color, label=pop)\n",
        "                   for pop, color in pop_to_color.items()]\n",
        "\n",
        "# Add the legend to the plot\n",
        "right.legend(handles=legend_elements, bbox_to_anchor=(x0 / 2 + w * 3.5, y0 + h / 2),\n",
        "          loc='right', frameon=False)\n",
        "fig.tight_layout()\n",
        "plt.show()"
      ]
    },
    {
      "cell_type": "markdown",
      "source": [
        "The results are comparable to those of the MDS of figure 2 from the article by Roy-Gagnon et al. (2011) <[https://doi.org/10.1007/s00439-010-0945-x]()>."
      ],
      "metadata": {
        "id": "LVeEccC5xmGR"
      }
    },
    {
      "cell_type": "markdown",
      "source": [
        "The following transformation flips the MDS to match the orientation of the figure in the original paper."
      ],
      "metadata": {
        "id": "mqmKsnYY2j6T"
      }
    },
    {
      "cell_type": "code",
      "source": [
        "dist = 2 - 2 ** corr.iloc[filter, :].iloc[:, filter]"
      ],
      "metadata": {
        "id": "vr85uJQovN-a"
      },
      "execution_count": 43,
      "outputs": []
    },
    {
      "cell_type": "code",
      "source": [
        "results = pcoa(dist)\n",
        "emb = results.samples.to_numpy()\n",
        "emb[:10, :]"
      ],
      "metadata": {
        "id": "KYGJzaNwvkrh",
        "outputId": "0521d7f9-3de3-4cf7-8a91-7bb50c9e8343",
        "colab": {
          "base_uri": "https://localhost:8080/"
        }
      },
      "execution_count": 44,
      "outputs": [
        {
          "output_type": "execute_result",
          "data": {
            "text/plain": [
              "array([[-4.73544804e-02, -8.98283085e-02, -1.21180528e-02, ...,\n",
              "         3.11453418e-03, -1.31278095e-03, -0.00000000e+00],\n",
              "       [ 2.76810600e-03,  5.54821554e-02,  2.12298205e-02, ...,\n",
              "         2.23463934e-03, -3.94559868e-04, -0.00000000e+00],\n",
              "       [-7.95856293e-02, -6.24907780e-02, -2.69991212e-03, ...,\n",
              "         2.58867610e-03,  9.12358804e-04, -0.00000000e+00],\n",
              "       ...,\n",
              "       [-1.09894133e-01, -1.04301966e-01, -6.91167288e-03, ...,\n",
              "         1.48004350e-04,  2.47107218e-05, -0.00000000e+00],\n",
              "       [-1.25616086e-01, -1.24136541e-01, -9.60499756e-03, ...,\n",
              "         6.23467157e-04,  3.31178113e-04, -0.00000000e+00],\n",
              "       [-9.30913055e-02, -8.01243879e-02, -1.10951675e-03, ...,\n",
              "         1.63528154e-04, -1.07494929e-04, -0.00000000e+00]])"
            ]
          },
          "metadata": {},
          "execution_count": 44
        }
      ]
    },
    {
      "cell_type": "code",
      "source": [
        "ratios = results.proportion_explained\n",
        "ratios"
      ],
      "metadata": {
        "id": "lW_bn9PWwlnA",
        "outputId": "ac4063d3-7f20-4812-8e90-5bef7a8f6f2b",
        "colab": {
          "base_uri": "https://localhost:8080/",
          "height": 453
        }
      },
      "execution_count": 45,
      "outputs": [
        {
          "output_type": "execute_result",
          "data": {
            "text/plain": [
              "PC1      0.011761\n",
              "PC2      0.010098\n",
              "PC3      0.008455\n",
              "PC4      0.008140\n",
              "PC5      0.007940\n",
              "           ...   \n",
              "PC136    0.006629\n",
              "PC137    0.006556\n",
              "PC138    0.006459\n",
              "PC139    0.005981\n",
              "PC140    0.000000\n",
              "Length: 140, dtype: float64"
            ],
            "text/html": [
              "<div>\n",
              "<style scoped>\n",
              "    .dataframe tbody tr th:only-of-type {\n",
              "        vertical-align: middle;\n",
              "    }\n",
              "\n",
              "    .dataframe tbody tr th {\n",
              "        vertical-align: top;\n",
              "    }\n",
              "\n",
              "    .dataframe thead th {\n",
              "        text-align: right;\n",
              "    }\n",
              "</style>\n",
              "<table border=\"1\" class=\"dataframe\">\n",
              "  <thead>\n",
              "    <tr style=\"text-align: right;\">\n",
              "      <th></th>\n",
              "      <th>0</th>\n",
              "    </tr>\n",
              "  </thead>\n",
              "  <tbody>\n",
              "    <tr>\n",
              "      <th>PC1</th>\n",
              "      <td>0.011761</td>\n",
              "    </tr>\n",
              "    <tr>\n",
              "      <th>PC2</th>\n",
              "      <td>0.010098</td>\n",
              "    </tr>\n",
              "    <tr>\n",
              "      <th>PC3</th>\n",
              "      <td>0.008455</td>\n",
              "    </tr>\n",
              "    <tr>\n",
              "      <th>PC4</th>\n",
              "      <td>0.008140</td>\n",
              "    </tr>\n",
              "    <tr>\n",
              "      <th>PC5</th>\n",
              "      <td>0.007940</td>\n",
              "    </tr>\n",
              "    <tr>\n",
              "      <th>...</th>\n",
              "      <td>...</td>\n",
              "    </tr>\n",
              "    <tr>\n",
              "      <th>PC136</th>\n",
              "      <td>0.006629</td>\n",
              "    </tr>\n",
              "    <tr>\n",
              "      <th>PC137</th>\n",
              "      <td>0.006556</td>\n",
              "    </tr>\n",
              "    <tr>\n",
              "      <th>PC138</th>\n",
              "      <td>0.006459</td>\n",
              "    </tr>\n",
              "    <tr>\n",
              "      <th>PC139</th>\n",
              "      <td>0.005981</td>\n",
              "    </tr>\n",
              "    <tr>\n",
              "      <th>PC140</th>\n",
              "      <td>0.000000</td>\n",
              "    </tr>\n",
              "  </tbody>\n",
              "</table>\n",
              "<p>140 rows × 1 columns</p>\n",
              "</div><br><label><b>dtype:</b> float64</label>"
            ]
          },
          "metadata": {},
          "execution_count": 45
        }
      ]
    },
    {
      "cell_type": "code",
      "source": [
        "import matplotlib.pyplot as plt\n",
        "import seaborn as sns\n",
        "from itertools import combinations\n",
        "\n",
        "comb = list(combinations(range(4), 2))\n",
        "\n",
        "rows = len(comb) // 3\n",
        "cols = 3 + len(comb) % 3\n",
        "fig, axes = plt.subplots(rows, cols, figsize=(cols/rows * 5, 5))\n",
        "\n",
        "colors = [pop_to_color[population_to_pop[pop]]\n",
        "          for pop, condition in zip(pops, filter) if condition]\n",
        "\n",
        "# Loop through combinations and plot\n",
        "for index, (i, j) in enumerate(comb):\n",
        "    ax = axes.flat[index]\n",
        "    sp = sns.scatterplot(\n",
        "        x=emb[:, i], y=emb[:, j], hue=colors, ax=ax,\n",
        "        palette={color: color for color in pop_to_color.values()})\n",
        "    ratio = round(ratios.iloc[i] * 100, 2)\n",
        "    ax.set_xlabel(f'PCoA{i+1} ({ratio}%)')\n",
        "    ratio = round(ratios.iloc[j] * 100, 2)\n",
        "    ax.set_ylabel(f'PCoA{j+1} ({ratio}%)')\n",
        "\n",
        "    # Rotate the y axis labels\n",
        "    yticks = ax.get_yticks()\n",
        "    yticklabels = ax.get_yticklabels()\n",
        "    ax.set_yticks(yticks, yticklabels, va='center', rotation=90)\n",
        "\n",
        "    # Disable legend\n",
        "    sp.get_legend().remove()\n",
        "\n",
        "# Legend outside the plot\n",
        "legend_handle = fig.legend(handles=legend_elements, bbox_to_anchor=(1.0, 0.5),\n",
        "                           loc='center left', frameon=False)\n",
        "\n",
        "plt.tight_layout()\n",
        "plt.show()"
      ],
      "metadata": {
        "id": "ZHjaN47QjsLu",
        "outputId": "567a20c4-ce93-4c08-f1f7-89ce5b58a830",
        "colab": {
          "base_uri": "https://localhost:8080/",
          "height": 189
        }
      },
      "execution_count": 46,
      "outputs": [
        {
          "output_type": "display_data",
          "data": {
            "text/plain": [
              "<Figure size 750x500 with 6 Axes>"
            ],
            "image/png": "[encoded data removed]"
          },
          "metadata": {}
        }
      ]
    }
  ],
  "metadata": {
    "colab": {
      "provenance": [],
      "include_colab_link": true
    },
    "kernelspec": {
      "display_name": ".venv",
      "language": "python",
      "name": "python3"
    },
    "language_info": {
      "codemirror_mode": {
        "name": "ipython",
        "version": 3
      },
      "file_extension": ".py",
      "mimetype": "text/x-python",
      "name": "python",
      "nbconvert_exporter": "python",
      "pygments_lexer": "ipython3",
      "version": "3.12.7"
    }
  },
  "nbformat": 4,
  "nbformat_minor": 0
}