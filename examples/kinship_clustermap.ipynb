{
  "cells": [
    {
      "cell_type": "markdown",
      "metadata": {
        "id": "view-in-github",
        "colab_type": "text"
      },
      "source": [
        "<a href=\"https://colab.research.google.com/github/GPhMorin/geneo/blob/main/examples/kinship_clustermap.ipynb\" target=\"_parent\"><img src=\"https://colab.research.google.com/assets/colab-badge.svg\" alt=\"Open In Colab\"/></a>"
      ]
    },
    {
      "cell_type": "markdown",
      "metadata": {
        "id": "5Q7BWyXYCTU_"
      },
      "source": [
        "# Kinship computation and clustering"
      ]
    },
    {
      "cell_type": "markdown",
      "metadata": {
        "id": "8UHDj8g8CTVC"
      },
      "source": [
        "This script computes pairwise kinship coefficients of the probands from the **genea140** dataset and plots a `clustermap` of kinship coefficients using Seaborn, inspired by figure 2 of [the following article](https://doi.org/10.1126/science.abi8264):\n",
        "> Wohns, A. W., Wong, Y., Jeffery, B., Akbari, A., Mallick, S., Pinhasi, R., ... & McVean, G. (2022). A unified genealogy of modern and ancient genomes. *Science, 375*(6583), eabi8264."
      ]
    },
    {
      "cell_type": "code",
      "execution_count": 34,
      "metadata": {
        "colab": {
          "base_uri": "https://localhost:8080/"
        },
        "id": "5fdB9xwsCTVC",
        "outputId": "9d859fbe-a7b2-40fb-a342-85a9e3db4259"
      },
      "outputs": [
        {
          "output_type": "stream",
          "name": "stdout",
          "text": [
            "Python 3.10.12\n"
          ]
        }
      ],
      "source": [
        "!python --version"
      ]
    },
    {
      "cell_type": "markdown",
      "metadata": {
        "id": "d4kI2vOKCTVD"
      },
      "source": [
        "The GENEO toolkit will be used for loading the datasets, identifying the probands, and computing the kinship coefficients."
      ]
    },
    {
      "cell_type": "code",
      "execution_count": 35,
      "metadata": {
        "colab": {
          "base_uri": "https://localhost:8080/"
        },
        "id": "51ps7VpfCTVE",
        "outputId": "a1c8b879-e471-458a-9be2-f231c8cf57e0"
      },
      "outputs": [
        {
          "output_type": "stream",
          "name": "stdout",
          "text": [
            "Collecting https://github.com/GPhMorin/geneo/archive/main.zip\n",
            "  Downloading https://github.com/GPhMorin/geneo/archive/main.zip\n",
            "\u001b[2K     \u001b[32m-\u001b[0m \u001b[32m640.4 kB\u001b[0m \u001b[31m1.9 MB/s\u001b[0m \u001b[33m0:00:00\u001b[0m\n",
            "\u001b[?25h  Installing build dependencies ... \u001b[?25l\u001b[?25hdone\n",
            "  Getting requirements to build wheel ... \u001b[?25l\u001b[?25hdone\n",
            "  Installing backend dependencies ... \u001b[?25l\u001b[?25hdone\n",
            "  Preparing metadata (pyproject.toml) ... \u001b[?25l\u001b[?25hdone\n",
            "Requirement already satisfied: numpy in /usr/local/lib/python3.10/dist-packages (from geneo==0.1.0) (1.26.4)\n",
            "Requirement already satisfied: pandas in /usr/local/lib/python3.10/dist-packages (from geneo==0.1.0) (2.2.2)\n",
            "Requirement already satisfied: scipy in /usr/local/lib/python3.10/dist-packages (from geneo==0.1.0) (1.13.1)\n",
            "Requirement already satisfied: python-dateutil>=2.8.2 in /usr/local/lib/python3.10/dist-packages (from pandas->geneo==0.1.0) (2.8.2)\n",
            "Requirement already satisfied: pytz>=2020.1 in /usr/local/lib/python3.10/dist-packages (from pandas->geneo==0.1.0) (2024.2)\n",
            "Requirement already satisfied: tzdata>=2022.7 in /usr/local/lib/python3.10/dist-packages (from pandas->geneo==0.1.0) (2024.2)\n",
            "Requirement already satisfied: six>=1.5 in /usr/local/lib/python3.10/dist-packages (from python-dateutil>=2.8.2->pandas->geneo==0.1.0) (1.16.0)\n"
          ]
        }
      ],
      "source": [
        "%pip install https://github.com/GPhMorin/geneo/archive/main.zip"
      ]
    },
    {
      "cell_type": "markdown",
      "metadata": {
        "id": "C_FVa5NeCTVE"
      },
      "source": [
        "The GENEO toolkit makes extensive use of Pandas dataframes, in this case, for the pairwise kinship coefficients and for the **pop140** dataset. Seaborn will be used for plotting."
      ]
    },
    {
      "cell_type": "code",
      "execution_count": 36,
      "metadata": {
        "id": "24ft-GU5CTVE"
      },
      "outputs": [],
      "source": [
        "import numpy as np\n",
        "import pandas as pd\n",
        "from scipy.cluster import hierarchy\n",
        "from scipy.spatial.distance import squareform\n",
        "import matplotlib.pyplot as plt\n",
        "from matplotlib.colors import SymLogNorm\n",
        "from matplotlib.patches import Patch\n",
        "import seaborn as sns\n",
        "import geneo as gen"
      ]
    },
    {
      "cell_type": "markdown",
      "metadata": {
        "id": "v9bCEN5_CTVE"
      },
      "source": [
        "Two datasets will be used: the **genea140** dataset, which according to the [GENLIB reference manual](https://cran.r-project.org/web/packages/GENLIB/GENLIB.pdf) corresponds to:\n",
        "> A genealogical corpus made of 41523 individuals from the province of Quebec, Canada. A total of 140 individuals have been sampled in seven sub-populations, listed in pop140, and their genealogies were reconstructed as far back as possible using the BALSAC population register and the Early Quebec Population Register."
      ]
    },
    {
      "cell_type": "code",
      "execution_count": 37,
      "metadata": {
        "colab": {
          "base_uri": "https://localhost:8080/"
        },
        "id": "-sc5Up0cCTVF",
        "outputId": "8e074f1b-1ed7-434f-f5d6-609f6232d1d4"
      },
      "outputs": [
        {
          "output_type": "execute_result",
          "data": {
            "text/plain": [
              "A pedigree with:\n",
              "41523 individuals;\n",
              "68248 parent-child relations;\n",
              "20773 men;\n",
              "20750 women;\n",
              "140 probands;\n",
              "18 generations."
            ]
          },
          "metadata": {},
          "execution_count": 37
        }
      ],
      "source": [
        "genea140 = gen.genealogy(gen.genea140)\n",
        "genea140"
      ]
    },
    {
      "cell_type": "markdown",
      "metadata": {
        "id": "xiq-wxacCTVF"
      },
      "source": [
        "The other dataset is **pop140** and accompanies **genea140**. According to the GENLIB reference manual:\n",
        "> The 140 individuals from the genealogical corpus from Quebec were sampled from 7 different populations from 5 regions; Quebec City, Montreal, Saguenay, North Shore, Gaspesia. In Gaspesia we find 3 different populations: French-Canadians, Acadians and Loyalists."
      ]
    },
    {
      "cell_type": "code",
      "execution_count": 38,
      "metadata": {
        "colab": {
          "base_uri": "https://localhost:8080/",
          "height": 419
        },
        "id": "CJ-q7YILCTVF",
        "outputId": "8773eaf2-cbb8-45a8-f550-00f4d43ceb2c"
      },
      "outputs": [
        {
          "output_type": "execute_result",
          "data": {
            "text/plain": [
              "        ind       pop\n",
              "0    409682  Saguenay\n",
              "1    409687  Saguenay\n",
              "2    868387  Saguenay\n",
              "3    717537  Saguenay\n",
              "4    302711  Saguenay\n",
              "..      ...       ...\n",
              "135  443161    Quebec\n",
              "136  443159    Quebec\n",
              "137  443165    Quebec\n",
              "138  443167    Quebec\n",
              "139  444292    Quebec\n",
              "\n",
              "[140 rows x 2 columns]"
            ],
            "text/html": [
              "\n",
              "  <div id=\"df-ecb13385-7901-4dba-9f7f-a406505451dc\" class=\"colab-df-container\">\n",
              "    <div>\n",
              "<style scoped>\n",
              "    .dataframe tbody tr th:only-of-type {\n",
              "        vertical-align: middle;\n",
              "    }\n",
              "\n",
              "    .dataframe tbody tr th {\n",
              "        vertical-align: top;\n",
              "    }\n",
              "\n",
              "    .dataframe thead th {\n",
              "        text-align: right;\n",
              "    }\n",
              "</style>\n",
              "<table border=\"1\" class=\"dataframe\">\n",
              "  <thead>\n",
              "    <tr style=\"text-align: right;\">\n",
              "      <th></th>\n",
              "      <th>ind</th>\n",
              "      <th>pop</th>\n",
              "    </tr>\n",
              "  </thead>\n",
              "  <tbody>\n",
              "    <tr>\n",
              "      <th>0</th>\n",
              "      <td>409682</td>\n",
              "      <td>Saguenay</td>\n",
              "    </tr>\n",
              "    <tr>\n",
              "      <th>1</th>\n",
              "      <td>409687</td>\n",
              "      <td>Saguenay</td>\n",
              "    </tr>\n",
              "    <tr>\n",
              "      <th>2</th>\n",
              "      <td>868387</td>\n",
              "      <td>Saguenay</td>\n",
              "    </tr>\n",
              "    <tr>\n",
              "      <th>3</th>\n",
              "      <td>717537</td>\n",
              "      <td>Saguenay</td>\n",
              "    </tr>\n",
              "    <tr>\n",
              "      <th>4</th>\n",
              "      <td>302711</td>\n",
              "      <td>Saguenay</td>\n",
              "    </tr>\n",
              "    <tr>\n",
              "      <th>...</th>\n",
              "      <td>...</td>\n",
              "      <td>...</td>\n",
              "    </tr>\n",
              "    <tr>\n",
              "      <th>135</th>\n",
              "      <td>443161</td>\n",
              "      <td>Quebec</td>\n",
              "    </tr>\n",
              "    <tr>\n",
              "      <th>136</th>\n",
              "      <td>443159</td>\n",
              "      <td>Quebec</td>\n",
              "    </tr>\n",
              "    <tr>\n",
              "      <th>137</th>\n",
              "      <td>443165</td>\n",
              "      <td>Quebec</td>\n",
              "    </tr>\n",
              "    <tr>\n",
              "      <th>138</th>\n",
              "      <td>443167</td>\n",
              "      <td>Quebec</td>\n",
              "    </tr>\n",
              "    <tr>\n",
              "      <th>139</th>\n",
              "      <td>444292</td>\n",
              "      <td>Quebec</td>\n",
              "    </tr>\n",
              "  </tbody>\n",
              "</table>\n",
              "<p>140 rows × 2 columns</p>\n",
              "</div>\n",
              "    <div class=\"colab-df-buttons\">\n",
              "\n",
              "  <div class=\"colab-df-container\">\n",
              "    <button class=\"colab-df-convert\" onclick=\"convertToInteractive('df-ecb13385-7901-4dba-9f7f-a406505451dc')\"\n",
              "            title=\"Convert this dataframe to an interactive table.\"\n",
              "            style=\"display:none;\">\n",
              "\n",
              "  <svg xmlns=\"http://www.w3.org/2000/svg\" height=\"24px\" viewBox=\"0 -960 960 960\">\n",
              "    <path d=\"M120-120v-720h720v720H120Zm60-500h600v-160H180v160Zm220 220h160v-160H400v160Zm0 220h160v-160H400v160ZM180-400h160v-160H180v160Zm440 0h160v-160H620v160ZM180-180h160v-160H180v160Zm440 0h160v-160H620v160Z\"/>\n",
              "  </svg>\n",
              "    </button>\n",
              "\n",
              "  <style>\n",
              "    .colab-df-container {\n",
              "      display:flex;\n",
              "      gap: 12px;\n",
              "    }\n",
              "\n",
              "    .colab-df-convert {\n",
              "      background-color: #E8F0FE;\n",
              "      border: none;\n",
              "      border-radius: 50%;\n",
              "      cursor: pointer;\n",
              "      display: none;\n",
              "      fill: #1967D2;\n",
              "      height: 32px;\n",
              "      padding: 0 0 0 0;\n",
              "      width: 32px;\n",
              "    }\n",
              "\n",
              "    .colab-df-convert:hover {\n",
              "      background-color: #E2EBFA;\n",
              "      box-shadow: 0px 1px 2px rgba(60, 64, 67, 0.3), 0px 1px 3px 1px rgba(60, 64, 67, 0.15);\n",
              "      fill: #174EA6;\n",
              "    }\n",
              "\n",
              "    .colab-df-buttons div {\n",
              "      margin-bottom: 4px;\n",
              "    }\n",
              "\n",
              "    [theme=dark] .colab-df-convert {\n",
              "      background-color: #3B4455;\n",
              "      fill: #D2E3FC;\n",
              "    }\n",
              "\n",
              "    [theme=dark] .colab-df-convert:hover {\n",
              "      background-color: #434B5C;\n",
              "      box-shadow: 0px 1px 3px 1px rgba(0, 0, 0, 0.15);\n",
              "      filter: drop-shadow(0px 1px 2px rgba(0, 0, 0, 0.3));\n",
              "      fill: #FFFFFF;\n",
              "    }\n",
              "  </style>\n",
              "\n",
              "    <script>\n",
              "      const buttonEl =\n",
              "        document.querySelector('#df-ecb13385-7901-4dba-9f7f-a406505451dc button.colab-df-convert');\n",
              "      buttonEl.style.display =\n",
              "        google.colab.kernel.accessAllowed ? 'block' : 'none';\n",
              "\n",
              "      async function convertToInteractive(key) {\n",
              "        const element = document.querySelector('#df-ecb13385-7901-4dba-9f7f-a406505451dc');\n",
              "        const dataTable =\n",
              "          await google.colab.kernel.invokeFunction('convertToInteractive',\n",
              "                                                    [key], {});\n",
              "        if (!dataTable) return;\n",
              "\n",
              "        const docLinkHtml = 'Like what you see? Visit the ' +\n",
              "          '<a target=\"_blank\" href=https://colab.research.google.com/notebooks/data_table.ipynb>data table notebook</a>'\n",
              "          + ' to learn more about interactive tables.';\n",
              "        element.innerHTML = '';\n",
              "        dataTable['output_type'] = 'display_data';\n",
              "        await google.colab.output.renderOutput(dataTable, element);\n",
              "        const docLink = document.createElement('div');\n",
              "        docLink.innerHTML = docLinkHtml;\n",
              "        element.appendChild(docLink);\n",
              "      }\n",
              "    </script>\n",
              "  </div>\n",
              "\n",
              "\n",
              "<div id=\"df-eb2c8628-ac97-4760-895d-25e608b47784\">\n",
              "  <button class=\"colab-df-quickchart\" onclick=\"quickchart('df-eb2c8628-ac97-4760-895d-25e608b47784')\"\n",
              "            title=\"Suggest charts\"\n",
              "            style=\"display:none;\">\n",
              "\n",
              "<svg xmlns=\"http://www.w3.org/2000/svg\" height=\"24px\"viewBox=\"0 0 24 24\"\n",
              "     width=\"24px\">\n",
              "    <g>\n",
              "        <path d=\"M19 3H5c-1.1 0-2 .9-2 2v14c0 1.1.9 2 2 2h14c1.1 0 2-.9 2-2V5c0-1.1-.9-2-2-2zM9 17H7v-7h2v7zm4 0h-2V7h2v10zm4 0h-2v-4h2v4z\"/>\n",
              "    </g>\n",
              "</svg>\n",
              "  </button>\n",
              "\n",
              "<style>\n",
              "  .colab-df-quickchart {\n",
              "      --bg-color: #E8F0FE;\n",
              "      --fill-color: #1967D2;\n",
              "      --hover-bg-color: #E2EBFA;\n",
              "      --hover-fill-color: #174EA6;\n",
              "      --disabled-fill-color: #AAA;\n",
              "      --disabled-bg-color: #DDD;\n",
              "  }\n",
              "\n",
              "  [theme=dark] .colab-df-quickchart {\n",
              "      --bg-color: #3B4455;\n",
              "      --fill-color: #D2E3FC;\n",
              "      --hover-bg-color: #434B5C;\n",
              "      --hover-fill-color: #FFFFFF;\n",
              "      --disabled-bg-color: #3B4455;\n",
              "      --disabled-fill-color: #666;\n",
              "  }\n",
              "\n",
              "  .colab-df-quickchart {\n",
              "    background-color: var(--bg-color);\n",
              "    border: none;\n",
              "    border-radius: 50%;\n",
              "    cursor: pointer;\n",
              "    display: none;\n",
              "    fill: var(--fill-color);\n",
              "    height: 32px;\n",
              "    padding: 0;\n",
              "    width: 32px;\n",
              "  }\n",
              "\n",
              "  .colab-df-quickchart:hover {\n",
              "    background-color: var(--hover-bg-color);\n",
              "    box-shadow: 0 1px 2px rgba(60, 64, 67, 0.3), 0 1px 3px 1px rgba(60, 64, 67, 0.15);\n",
              "    fill: var(--button-hover-fill-color);\n",
              "  }\n",
              "\n",
              "  .colab-df-quickchart-complete:disabled,\n",
              "  .colab-df-quickchart-complete:disabled:hover {\n",
              "    background-color: var(--disabled-bg-color);\n",
              "    fill: var(--disabled-fill-color);\n",
              "    box-shadow: none;\n",
              "  }\n",
              "\n",
              "  .colab-df-spinner {\n",
              "    border: 2px solid var(--fill-color);\n",
              "    border-color: transparent;\n",
              "    border-bottom-color: var(--fill-color);\n",
              "    animation:\n",
              "      spin 1s steps(1) infinite;\n",
              "  }\n",
              "\n",
              "  @keyframes spin {\n",
              "    0% {\n",
              "      border-color: transparent;\n",
              "      border-bottom-color: var(--fill-color);\n",
              "      border-left-color: var(--fill-color);\n",
              "    }\n",
              "    20% {\n",
              "      border-color: transparent;\n",
              "      border-left-color: var(--fill-color);\n",
              "      border-top-color: var(--fill-color);\n",
              "    }\n",
              "    30% {\n",
              "      border-color: transparent;\n",
              "      border-left-color: var(--fill-color);\n",
              "      border-top-color: var(--fill-color);\n",
              "      border-right-color: var(--fill-color);\n",
              "    }\n",
              "    40% {\n",
              "      border-color: transparent;\n",
              "      border-right-color: var(--fill-color);\n",
              "      border-top-color: var(--fill-color);\n",
              "    }\n",
              "    60% {\n",
              "      border-color: transparent;\n",
              "      border-right-color: var(--fill-color);\n",
              "    }\n",
              "    80% {\n",
              "      border-color: transparent;\n",
              "      border-right-color: var(--fill-color);\n",
              "      border-bottom-color: var(--fill-color);\n",
              "    }\n",
              "    90% {\n",
              "      border-color: transparent;\n",
              "      border-bottom-color: var(--fill-color);\n",
              "    }\n",
              "  }\n",
              "</style>\n",
              "\n",
              "  <script>\n",
              "    async function quickchart(key) {\n",
              "      const quickchartButtonEl =\n",
              "        document.querySelector('#' + key + ' button');\n",
              "      quickchartButtonEl.disabled = true;  // To prevent multiple clicks.\n",
              "      quickchartButtonEl.classList.add('colab-df-spinner');\n",
              "      try {\n",
              "        const charts = await google.colab.kernel.invokeFunction(\n",
              "            'suggestCharts', [key], {});\n",
              "      } catch (error) {\n",
              "        console.error('Error during call to suggestCharts:', error);\n",
              "      }\n",
              "      quickchartButtonEl.classList.remove('colab-df-spinner');\n",
              "      quickchartButtonEl.classList.add('colab-df-quickchart-complete');\n",
              "    }\n",
              "    (() => {\n",
              "      let quickchartButtonEl =\n",
              "        document.querySelector('#df-eb2c8628-ac97-4760-895d-25e608b47784 button');\n",
              "      quickchartButtonEl.style.display =\n",
              "        google.colab.kernel.accessAllowed ? 'block' : 'none';\n",
              "    })();\n",
              "  </script>\n",
              "</div>\n",
              "\n",
              "  <div id=\"id_f1f9202c-bc7b-477d-8153-fe9f84259717\">\n",
              "    <style>\n",
              "      .colab-df-generate {\n",
              "        background-color: #E8F0FE;\n",
              "        border: none;\n",
              "        border-radius: 50%;\n",
              "        cursor: pointer;\n",
              "        display: none;\n",
              "        fill: #1967D2;\n",
              "        height: 32px;\n",
              "        padding: 0 0 0 0;\n",
              "        width: 32px;\n",
              "      }\n",
              "\n",
              "      .colab-df-generate:hover {\n",
              "        background-color: #E2EBFA;\n",
              "        box-shadow: 0px 1px 2px rgba(60, 64, 67, 0.3), 0px 1px 3px 1px rgba(60, 64, 67, 0.15);\n",
              "        fill: #174EA6;\n",
              "      }\n",
              "\n",
              "      [theme=dark] .colab-df-generate {\n",
              "        background-color: #3B4455;\n",
              "        fill: #D2E3FC;\n",
              "      }\n",
              "\n",
              "      [theme=dark] .colab-df-generate:hover {\n",
              "        background-color: #434B5C;\n",
              "        box-shadow: 0px 1px 3px 1px rgba(0, 0, 0, 0.15);\n",
              "        filter: drop-shadow(0px 1px 2px rgba(0, 0, 0, 0.3));\n",
              "        fill: #FFFFFF;\n",
              "      }\n",
              "    </style>\n",
              "    <button class=\"colab-df-generate\" onclick=\"generateWithVariable('pop140')\"\n",
              "            title=\"Generate code using this dataframe.\"\n",
              "            style=\"display:none;\">\n",
              "\n",
              "  <svg xmlns=\"http://www.w3.org/2000/svg\" height=\"24px\"viewBox=\"0 0 24 24\"\n",
              "       width=\"24px\">\n",
              "    <path d=\"M7,19H8.4L18.45,9,17,7.55,7,17.6ZM5,21V16.75L18.45,3.32a2,2,0,0,1,2.83,0l1.4,1.43a1.91,1.91,0,0,1,.58,1.4,1.91,1.91,0,0,1-.58,1.4L9.25,21ZM18.45,9,17,7.55Zm-12,3A5.31,5.31,0,0,0,4.9,8.1,5.31,5.31,0,0,0,1,6.5,5.31,5.31,0,0,0,4.9,4.9,5.31,5.31,0,0,0,6.5,1,5.31,5.31,0,0,0,8.1,4.9,5.31,5.31,0,0,0,12,6.5,5.46,5.46,0,0,0,6.5,12Z\"/>\n",
              "  </svg>\n",
              "    </button>\n",
              "    <script>\n",
              "      (() => {\n",
              "      const buttonEl =\n",
              "        document.querySelector('#id_f1f9202c-bc7b-477d-8153-fe9f84259717 button.colab-df-generate');\n",
              "      buttonEl.style.display =\n",
              "        google.colab.kernel.accessAllowed ? 'block' : 'none';\n",
              "\n",
              "      buttonEl.onclick = () => {\n",
              "        google.colab.notebook.generateWithVariable('pop140');\n",
              "      }\n",
              "      })();\n",
              "    </script>\n",
              "  </div>\n",
              "\n",
              "    </div>\n",
              "  </div>\n"
            ],
            "application/vnd.google.colaboratory.intrinsic+json": {
              "type": "dataframe",
              "variable_name": "pop140",
              "summary": "{\n  \"name\": \"pop140\",\n  \"rows\": 140,\n  \"fields\": [\n    {\n      \"column\": \"ind\",\n      \"properties\": {\n        \"dtype\": \"number\",\n        \"std\": 95548,\n        \"min\": 217891,\n        \"max\": 868572,\n        \"num_unique_values\": 140,\n        \"samples\": [\n          417179,\n          408758,\n          409032\n        ],\n        \"semantic_type\": \"\",\n        \"description\": \"\"\n      }\n    },\n    {\n      \"column\": \"pop\",\n      \"properties\": {\n        \"dtype\": \"category\",\n        \"num_unique_values\": 7,\n        \"samples\": [\n          \"Saguenay\",\n          \"Gaspesia-Acadian\",\n          \"Montreal\"\n        ],\n        \"semantic_type\": \"\",\n        \"description\": \"\"\n      }\n    }\n  ]\n}"
            }
          },
          "metadata": {},
          "execution_count": 38
        }
      ],
      "source": [
        "pop140 = pd.read_csv(gen.pop140, sep='\\t')\n",
        "pop140"
      ]
    },
    {
      "cell_type": "markdown",
      "metadata": {
        "id": "AhwfoHK1CTVF"
      },
      "source": [
        "Now let's compute the pairwise kinship coefficients. On a recent computer, it should take just a few seconds to run the next line, especially if you have OpenMP detected during the toolkit's installation."
      ]
    },
    {
      "cell_type": "code",
      "execution_count": 39,
      "metadata": {
        "id": "BiKTLTCMCTVG"
      },
      "outputs": [],
      "source": [
        "phi = gen.phi(genea140)"
      ]
    },
    {
      "cell_type": "markdown",
      "source": [
        "The minimum non-null value will be used for plotting the color bar."
      ],
      "metadata": {
        "id": "4d4if_oOkxFF"
      }
    },
    {
      "cell_type": "code",
      "source": [
        "min_phi = phi[phi != 0].min().min()\n",
        "min_phi"
      ],
      "metadata": {
        "id": "rGpBBau1i5Ji",
        "outputId": "14a9ab58-1831-4146-c5ba-70dbe3022a85",
        "colab": {
          "base_uri": "https://localhost:8080/"
        }
      },
      "execution_count": 40,
      "outputs": [
        {
          "output_type": "execute_result",
          "data": {
            "text/plain": [
              "2.384185791015625e-07"
            ]
          },
          "metadata": {},
          "execution_count": 40
        }
      ]
    },
    {
      "cell_type": "markdown",
      "metadata": {
        "id": "_tl4Mo7HCTVG"
      },
      "source": [
        "In another situation where the genealogies are bigger, you can run `gen.phi(genea140, compute=False)` to get information about the minimum RAM required."
      ]
    },
    {
      "cell_type": "code",
      "execution_count": 41,
      "metadata": {
        "colab": {
          "base_uri": "https://localhost:8080/"
        },
        "id": "0nQfAbjBCTVG",
        "outputId": "bcf01010-e083-4d0c-c1fd-dcfc83bb5d54"
      },
      "outputs": [
        {
          "output_type": "stream",
          "name": "stdout",
          "text": [
            "You will require at least 2.84 GB of RAM.\n"
          ]
        }
      ],
      "source": [
        "gen.phi(genea140, compute=False)"
      ]
    },
    {
      "cell_type": "markdown",
      "metadata": {
        "id": "gxFTYGfxCTVG"
      },
      "source": [
        "Let's create a dictionary to easily get the corresponding population of an individual."
      ]
    },
    {
      "cell_type": "code",
      "execution_count": 42,
      "metadata": {
        "colab": {
          "base_uri": "https://localhost:8080/"
        },
        "id": "dwuz_9lFCTVG",
        "outputId": "4d032346-02a5-46fc-e9bd-6a6eddb2de4a"
      },
      "outputs": [
        {
          "output_type": "execute_result",
          "data": {
            "text/plain": [
              "{409682: 'Saguenay',\n",
              " 409687: 'Saguenay',\n",
              " 868387: 'Saguenay',\n",
              " 717537: 'Saguenay',\n",
              " 302711: 'Saguenay',\n",
              " 302716: 'Saguenay',\n",
              " 868572: 'Saguenay',\n",
              " 717634: 'Saguenay',\n",
              " 409808: 'Saguenay',\n",
              " 718567: 'Saguenay',\n",
              " 677273: 'Saguenay',\n",
              " 717709: 'Saguenay',\n",
              " 302717: 'Saguenay',\n",
              " 219947: 'Saguenay',\n",
              " 288708: 'Saguenay',\n",
              " 454422: 'Saguenay',\n",
              " 302718: 'Saguenay',\n",
              " 218089: 'Saguenay',\n",
              " 302710: 'Saguenay',\n",
              " 217891: 'Saguenay',\n",
              " 288764: 'Saguenay',\n",
              " 453612: 'Saguenay',\n",
              " 408319: 'Gaspesia-Acadian',\n",
              " 408480: 'Gaspesia-Acadian',\n",
              " 408920: 'Gaspesia-Acadian',\n",
              " 408926: 'Gaspesia-Acadian',\n",
              " 408475: 'Gaspesia-Loyalist',\n",
              " 408477: 'Gaspesia-Loyalist',\n",
              " 408790: 'Gaspesia-Loyalist',\n",
              " 409098: 'Gaspesia-Loyalist',\n",
              " 409100: 'Gaspesia-Loyalist',\n",
              " 409032: 'Gaspesia-Loyalist',\n",
              " 408992: 'Gaspesia-Loyalist',\n",
              " 409031: 'Gaspesia-Loyalist',\n",
              " 409215: 'Gaspesia-Loyalist',\n",
              " 409266: 'Gaspesia-Loyalist',\n",
              " 409437: 'Gaspesia-Loyalist',\n",
              " 409434: 'Gaspesia-Loyalist',\n",
              " 409422: 'Gaspesia-Loyalist',\n",
              " 409349: 'Gaspesia-Loyalist',\n",
              " 408769: 'Gaspesia-Loyalist',\n",
              " 409033: 'Gaspesia-Acadian',\n",
              " 409153: 'Gaspesia-Loyalist',\n",
              " 409282: 'Gaspesia-Loyalist',\n",
              " 408062: 'Gaspesia-FrenchCanadian',\n",
              " 408372: 'Gaspesia-FrenchCanadian',\n",
              " 408364: 'Gaspesia-FrenchCanadian',\n",
              " 408366: 'Gaspesia-FrenchCanadian',\n",
              " 408375: 'Gaspesia-FrenchCanadian',\n",
              " 408388: 'Gaspesia-FrenchCanadian',\n",
              " 408426: 'Gaspesia-FrenchCanadian',\n",
              " 676521: 'Gaspesia-FrenchCanadian',\n",
              " 408427: 'Gaspesia-FrenchCanadian',\n",
              " 408396: 'Gaspesia-FrenchCanadian',\n",
              " 408393: 'Gaspesia-FrenchCanadian',\n",
              " 408394: 'Gaspesia-FrenchCanadian',\n",
              " 408691: 'Gaspesia-FrenchCanadian',\n",
              " 408917: 'Gaspesia-FrenchCanadian',\n",
              " 408923: 'Gaspesia-FrenchCanadian',\n",
              " 409054: 'Gaspesia-FrenchCanadian',\n",
              " 408950: 'Gaspesia-FrenchCanadian',\n",
              " 408937: 'Gaspesia-FrenchCanadian',\n",
              " 409092: 'Gaspesia-FrenchCanadian',\n",
              " 409041: 'Gaspesia-FrenchCanadian',\n",
              " 409288: 'Gaspesia-Loyalist',\n",
              " 409259: 'Gaspesia-Loyalist',\n",
              " 409263: 'Gaspesia-Loyalist',\n",
              " 408758: 'Gaspesia-Acadian',\n",
              " 408728: 'Gaspesia-Acadian',\n",
              " 408868: 'Gaspesia-Acadian',\n",
              " 408828: 'Gaspesia-Acadian',\n",
              " 408911: 'Gaspesia-Acadian',\n",
              " 409082: 'Gaspesia-Acadian',\n",
              " 409103: 'Gaspesia-Acadian',\n",
              " 409086: 'Gaspesia-Acadian',\n",
              " 409095: 'Gaspesia-Acadian',\n",
              " 409084: 'Gaspesia-Acadian',\n",
              " 409091: 'Gaspesia-Acadian',\n",
              " 409154: 'Gaspesia-Acadian',\n",
              " 409111: 'Gaspesia-Acadian',\n",
              " 409147: 'Gaspesia-Acadian',\n",
              " 409124: 'Gaspesia-Acadian',\n",
              " 416134: 'NorthShore',\n",
              " 416124: 'NorthShore',\n",
              " 416140: 'NorthShore',\n",
              " 416118: 'NorthShore',\n",
              " 416130: 'NorthShore',\n",
              " 416144: 'NorthShore',\n",
              " 416147: 'NorthShore',\n",
              " 416150: 'NorthShore',\n",
              " 416162: 'NorthShore',\n",
              " 416163: 'NorthShore',\n",
              " 416852: 'NorthShore',\n",
              " 416961: 'NorthShore',\n",
              " 416965: 'NorthShore',\n",
              " 416861: 'NorthShore',\n",
              " 416973: 'NorthShore',\n",
              " 416829: 'NorthShore',\n",
              " 416955: 'NorthShore',\n",
              " 417018: 'NorthShore',\n",
              " 417148: 'NorthShore',\n",
              " 417662: 'NorthShore',\n",
              " 416925: 'Montreal',\n",
              " 417187: 'Montreal',\n",
              " 416915: 'Montreal',\n",
              " 417184: 'Montreal',\n",
              " 417663: 'Montreal',\n",
              " 417181: 'Montreal',\n",
              " 417179: 'Montreal',\n",
              " 417170: 'Montreal',\n",
              " 417169: 'Montreal',\n",
              " 417168: 'Montreal',\n",
              " 430148: 'Montreal',\n",
              " 430152: 'Montreal',\n",
              " 416899: 'Montreal',\n",
              " 417164: 'Montreal',\n",
              " 417890: 'Montreal',\n",
              " 417234: 'Montreal',\n",
              " 430056: 'Montreal',\n",
              " 419335: 'Montreal',\n",
              " 417882: 'Montreal',\n",
              " 419332: 'Montreal',\n",
              " 419329: 'Montreal',\n",
              " 430101: 'Montreal',\n",
              " 444295: 'Quebec',\n",
              " 443169: 'Quebec',\n",
              " 443151: 'Quebec',\n",
              " 443149: 'Quebec',\n",
              " 443154: 'Quebec',\n",
              " 443157: 'Quebec',\n",
              " 443155: 'Quebec',\n",
              " 443152: 'Quebec',\n",
              " 802424: 'Quebec',\n",
              " 443163: 'Quebec',\n",
              " 444293: 'Quebec',\n",
              " 443161: 'Quebec',\n",
              " 443159: 'Quebec',\n",
              " 443165: 'Quebec',\n",
              " 443167: 'Quebec',\n",
              " 444292: 'Quebec'}"
            ]
          },
          "metadata": {},
          "execution_count": 42
        }
      ],
      "source": [
        "ind_to_pop = {ind: pop for index, (ind, pop) in pop140.iterrows()}\n",
        "ind_to_pop"
      ]
    },
    {
      "cell_type": "markdown",
      "metadata": {
        "id": "93-Zi6y4CTVG"
      },
      "source": [
        "Here's a dictionary to convert a population to its corresponding abbreviation."
      ]
    },
    {
      "cell_type": "code",
      "execution_count": 43,
      "metadata": {
        "id": "nkKK6q8mCTVH"
      },
      "outputs": [],
      "source": [
        "population_to_pop = {\n",
        "    'Gaspesia-Acadian': 'ACA',\n",
        "    'Gaspesia-FrenchCanadian': 'GFC',\n",
        "    'Gaspesia-Loyalist': 'LOY',\n",
        "    'Montreal': 'MON',\n",
        "    'NorthShore': 'NS',\n",
        "    'Quebec': 'QUE',\n",
        "    'Saguenay': 'SAG'\n",
        "}"
      ]
    },
    {
      "cell_type": "markdown",
      "metadata": {
        "id": "Y5sxq5htCTVH"
      },
      "source": [
        "Now, a dictionary to get the color of a corresponding abbreviation."
      ]
    },
    {
      "cell_type": "code",
      "execution_count": 44,
      "metadata": {
        "id": "oFfmGHGqCTVH"
      },
      "outputs": [],
      "source": [
        "pop_to_color = {\n",
        "    'ACA': 'red',\n",
        "    'GFC': 'purple',\n",
        "    'LOY': 'lime',\n",
        "    'MON': 'orange',\n",
        "    'NS': 'cyan',\n",
        "    'QUE': 'blue',\n",
        "    'SAG': 'darkgreen',\n",
        "}"
      ]
    },
    {
      "cell_type": "markdown",
      "metadata": {
        "id": "GCkyx1HfCTVH"
      },
      "source": [
        "Let's extract the color of each proband."
      ]
    },
    {
      "cell_type": "code",
      "execution_count": 45,
      "metadata": {
        "colab": {
          "base_uri": "https://localhost:8080/"
        },
        "id": "c8366nlMCTVH",
        "outputId": "e7fb80e5-bcfd-400c-8a62-114b6478104c"
      },
      "outputs": [
        {
          "output_type": "execute_result",
          "data": {
            "text/plain": [
              "['darkgreen',\n",
              " 'darkgreen',\n",
              " 'darkgreen',\n",
              " 'darkgreen',\n",
              " 'darkgreen',\n",
              " 'darkgreen',\n",
              " 'darkgreen',\n",
              " 'darkgreen',\n",
              " 'darkgreen',\n",
              " 'darkgreen',\n",
              " 'purple',\n",
              " 'red',\n",
              " 'purple',\n",
              " 'purple',\n",
              " 'purple',\n",
              " 'purple',\n",
              " 'purple',\n",
              " 'purple',\n",
              " 'purple',\n",
              " 'purple',\n",
              " 'purple',\n",
              " 'purple',\n",
              " 'lime',\n",
              " 'lime',\n",
              " 'red',\n",
              " 'purple',\n",
              " 'red',\n",
              " 'red',\n",
              " 'lime',\n",
              " 'lime',\n",
              " 'red',\n",
              " 'red',\n",
              " 'red',\n",
              " 'purple',\n",
              " 'red',\n",
              " 'purple',\n",
              " 'red',\n",
              " 'purple',\n",
              " 'purple',\n",
              " 'lime',\n",
              " 'lime',\n",
              " 'lime',\n",
              " 'red',\n",
              " 'purple',\n",
              " 'purple',\n",
              " 'red',\n",
              " 'red',\n",
              " 'red',\n",
              " 'red',\n",
              " 'purple',\n",
              " 'red',\n",
              " 'lime',\n",
              " 'lime',\n",
              " 'red',\n",
              " 'red',\n",
              " 'red',\n",
              " 'red',\n",
              " 'lime',\n",
              " 'red',\n",
              " 'lime',\n",
              " 'lime',\n",
              " 'lime',\n",
              " 'lime',\n",
              " 'lime',\n",
              " 'lime',\n",
              " 'lime',\n",
              " 'lime',\n",
              " 'lime',\n",
              " 'lime',\n",
              " 'darkgreen',\n",
              " 'darkgreen',\n",
              " 'darkgreen',\n",
              " 'cyan',\n",
              " 'cyan',\n",
              " 'cyan',\n",
              " 'cyan',\n",
              " 'cyan',\n",
              " 'cyan',\n",
              " 'cyan',\n",
              " 'cyan',\n",
              " 'cyan',\n",
              " 'cyan',\n",
              " 'cyan',\n",
              " 'cyan',\n",
              " 'cyan',\n",
              " 'orange',\n",
              " 'orange',\n",
              " 'orange',\n",
              " 'cyan',\n",
              " 'cyan',\n",
              " 'cyan',\n",
              " 'cyan',\n",
              " 'cyan',\n",
              " 'cyan',\n",
              " 'orange',\n",
              " 'orange',\n",
              " 'orange',\n",
              " 'orange',\n",
              " 'orange',\n",
              " 'orange',\n",
              " 'orange',\n",
              " 'orange',\n",
              " 'orange',\n",
              " 'cyan',\n",
              " 'orange',\n",
              " 'orange',\n",
              " 'orange',\n",
              " 'orange',\n",
              " 'orange',\n",
              " 'orange',\n",
              " 'orange',\n",
              " 'orange',\n",
              " 'orange',\n",
              " 'orange',\n",
              " 'blue',\n",
              " 'blue',\n",
              " 'blue',\n",
              " 'blue',\n",
              " 'blue',\n",
              " 'blue',\n",
              " 'blue',\n",
              " 'blue',\n",
              " 'blue',\n",
              " 'blue',\n",
              " 'blue',\n",
              " 'blue',\n",
              " 'blue',\n",
              " 'blue',\n",
              " 'blue',\n",
              " 'darkgreen',\n",
              " 'darkgreen',\n",
              " 'purple',\n",
              " 'darkgreen',\n",
              " 'darkgreen',\n",
              " 'darkgreen',\n",
              " 'darkgreen',\n",
              " 'darkgreen',\n",
              " 'blue',\n",
              " 'darkgreen',\n",
              " 'darkgreen']"
            ]
          },
          "metadata": {},
          "execution_count": 45
        }
      ],
      "source": [
        "pro = gen.pro(genea140)\n",
        "pops = [ind_to_pop[ind] for ind in pro]\n",
        "colors = [pop_to_color[population_to_pop[pop]] for pop in pops]\n",
        "colors"
      ]
    },
    {
      "cell_type": "markdown",
      "source": [
        "Instead of using the classical Euclidean distance, a custom distance is used where the diagonal values are ignored."
      ],
      "metadata": {
        "id": "VaQ1DpU9-bq2"
      }
    },
    {
      "cell_type": "code",
      "source": [
        "def compute_distance(similarity_matrix):\n",
        "    distances = np.zeros_like(similarity_matrix)\n",
        "    for i in range(len(similarity_matrix)):\n",
        "        for j in range(i + 1, len(similarity_matrix)):\n",
        "            distance = 0\n",
        "            for k in range(len(similarity_matrix)):\n",
        "                if k == i or k == j:\n",
        "                    continue\n",
        "                max_value = max(similarity_matrix[i, k], similarity_matrix[j, k])\n",
        "                if max_value == 0:\n",
        "                    continue\n",
        "                min_value = min(similarity_matrix[i, k], similarity_matrix[j, k])\n",
        "                distance += 1 - min_value / max_value\n",
        "            distances[i, j] = distance\n",
        "            distances[j, i] = distances[i, j]  # Symmetric assignment\n",
        "    max_distance = np.max(distances)\n",
        "    distances /= max_distance\n",
        "    return distances"
      ],
      "metadata": {
        "id": "Czicalsr6KyU"
      },
      "execution_count": 46,
      "outputs": []
    },
    {
      "cell_type": "code",
      "source": [
        "dist = compute_distance(phi.to_numpy())\n",
        "dist[:5, :5]"
      ],
      "metadata": {
        "id": "h2WVOgAa6MK1",
        "outputId": "5b8a8615-dd55-457a-b18a-b9306e25fd68",
        "colab": {
          "base_uri": "https://localhost:8080/"
        }
      },
      "execution_count": 47,
      "outputs": [
        {
          "output_type": "execute_result",
          "data": {
            "text/plain": [
              "array([[0.        , 0.60365673, 0.2510188 , 0.25426045, 0.27325855],\n",
              "       [0.60365673, 0.        , 0.58350691, 0.53976924, 0.57440772],\n",
              "       [0.2510188 , 0.58350691, 0.        , 0.16991892, 0.19780143],\n",
              "       [0.25426045, 0.53976924, 0.16991892, 0.        , 0.20758453],\n",
              "       [0.27325855, 0.57440772, 0.19780143, 0.20758453, 0.        ]])"
            ]
          },
          "metadata": {},
          "execution_count": 47
        }
      ]
    },
    {
      "cell_type": "markdown",
      "metadata": {
        "id": "3cRAMf5iCTVH"
      },
      "source": [
        "The following mask will remove the values of the lower triangle, including the diagonal."
      ]
    },
    {
      "cell_type": "code",
      "execution_count": 48,
      "metadata": {
        "colab": {
          "base_uri": "https://localhost:8080/"
        },
        "id": "QVP7oQSpCTVH",
        "outputId": "f9d09e43-8cf6-49f4-da4a-4cb2c5e10457"
      },
      "outputs": [
        {
          "output_type": "execute_result",
          "data": {
            "text/plain": [
              "array([[ True,  True,  True, ...,  True,  True,  True],\n",
              "       [False,  True, False, ..., False, False, False],\n",
              "       [False,  True,  True, ...,  True,  True,  True],\n",
              "       ...,\n",
              "       [False,  True, False, ...,  True, False, False],\n",
              "       [False,  True, False, ...,  True,  True, False],\n",
              "       [False,  True, False, ...,  True,  True,  True]])"
            ]
          },
          "metadata": {},
          "execution_count": 48
        }
      ],
      "source": [
        "n = phi.shape[0]\n",
        "mask = np.zeros((n, n), dtype=bool)\n",
        "Z = hierarchy.linkage(squareform(dist), method='average', optimal_ordering=True)\n",
        "ordering = hierarchy.leaves_list(Z)\n",
        "for i in range(n):\n",
        "    for j in range(n):\n",
        "        if i >= j:\n",
        "            mask[ordering[i], ordering[j]] = True\n",
        "mask"
      ]
    },
    {
      "cell_type": "markdown",
      "metadata": {
        "id": "WyV2h02bCTVH"
      },
      "source": [
        "Finally, let's see the results."
      ]
    },
    {
      "cell_type": "code",
      "execution_count": 49,
      "metadata": {
        "colab": {
          "base_uri": "https://localhost:8080/",
          "height": 985
        },
        "id": "Jea1PxobCTVH",
        "outputId": "480192f5-7fb9-4f31-917b-c8197e2725bd"
      },
      "outputs": [
        {
          "output_type": "display_data",
          "data": {
            "text/plain": [
              "<Figure size 1000x1000 with 5 Axes>"
            ],
            "image/png": "[encoded data removed]"
          },
          "metadata": {}
        }
      ],
      "source": [
        "cm = sns.clustermap(phi,\n",
        "                    mask=mask,\n",
        "                    cmap='rocket',\n",
        "                    row_colors=colors,\n",
        "                    xticklabels=pops,\n",
        "                    yticklabels=False,\n",
        "                    cbar_kws={'label': 'Kinship coefficient',\n",
        "                              'orientation': 'horizontal'},\n",
        "                    dendrogram_ratio=(.1, 0),\n",
        "                    figsize=(10, 10),\n",
        "                    norm=SymLogNorm(linthresh=min_phi, base=2),\n",
        "                    row_linkage=Z,\n",
        "                    col_linkage=Z)\n",
        "\n",
        "# Invert the x-axis\n",
        "cm.ax_heatmap.invert_xaxis()\n",
        "\n",
        "# Colorbar\n",
        "cm.ax_cbar.yaxis.set_ticks_position('left')\n",
        "cm.ax_cbar.yaxis.set_label_position('left')\n",
        "x0, y0, w0, h0 = cm.cbar_pos\n",
        "x1, y1, w1, h1 = cm.ax_heatmap.get_position().bounds\n",
        "cm.ax_cbar.set_position([x1 + w0, y1, w1 - w0, w0 / 2])\n",
        "\n",
        "# Add a label to the row colors\n",
        "cm.ax_row_colors.set_xticks([0.5])\n",
        "cm.ax_row_colors.set_xticklabels(['Population'], rotation=90)\n",
        "\n",
        "# Move the xticklabels to the top\n",
        "cm.ax_heatmap.xaxis.set_ticks_position('top')\n",
        "cm.ax_heatmap.xaxis.set_label_position('top')\n",
        "cm.ax_heatmap.xaxis.set_tick_params(rotation=90, labelsize=720*w1/phi.shape[0])\n",
        "\n",
        "# Create a list of legend elements\n",
        "legend_elements = [Patch(facecolor=color, label=pop) for pop, color in pop_to_color.items()]\n",
        "\n",
        "# Add the legend to the plot\n",
        "cm.ax_heatmap.legend(handles=legend_elements,\n",
        "                     title='Population',\n",
        "                     bbox_to_anchor=(w1, h1 / 2),\n",
        "                     loc='center',\n",
        "                     frameon=False)\n",
        "plt.show()"
      ]
    }
  ],
  "metadata": {
    "kernelspec": {
      "display_name": ".venv",
      "language": "python",
      "name": "python3"
    },
    "language_info": {
      "codemirror_mode": {
        "name": "ipython",
        "version": 3
      },
      "file_extension": ".py",
      "mimetype": "text/x-python",
      "name": "python",
      "nbconvert_exporter": "python",
      "pygments_lexer": "ipython3",
      "version": "3.12.7"
    },
    "colab": {
      "provenance": [],
      "include_colab_link": true
    }
  },
  "nbformat": 4,
  "nbformat_minor": 0
}